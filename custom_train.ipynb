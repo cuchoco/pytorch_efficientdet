{
 "cells": [
  {
   "cell_type": "code",
   "execution_count": 1,
   "id": "feae6491-aecb-4037-8d8b-f2de44f441f9",
   "metadata": {},
   "outputs": [],
   "source": [
    "# original author: signatrix\n",
    "# adapted from https://github.com/signatrix/efficientdet/blob/master/train.py\n",
    "# modified by Zylo117\n",
    "\n",
    "import argparse\n",
    "import datetime\n",
    "import os\n",
    "import traceback\n",
    "\n",
    "import numpy as np\n",
    "import torch\n",
    "import yaml\n",
    "from tensorboardX import SummaryWriter\n",
    "from torch import nn\n",
    "from torch.utils.data import DataLoader\n",
    "from torchvision import transforms\n",
    "from tqdm.autonotebook import tqdm\n",
    "\n",
    "from backbone import EfficientDetBackbone\n",
    "from efficientdet.dataset import BrainDataset, Resizer, Normalizer, Augmenter, collater\n",
    "from efficientdet.loss import FocalLoss\n",
    "from utils.sync_batchnorm import patch_replication_callback\n",
    "from utils.utils import replace_w_sync_bn, CustomDataParallel, get_last_weights, init_weights, boolean_string\n",
    "import json\n",
    "\n",
    "data_path = '/home/kuchoco97/work/brain/data/'\n",
    "\n",
    "with open(data_path + 'hem_frac_train_03.json', 'r') as file:\n",
    "    ann = json.load(file)\n",
    "\n",
    "\n",
    "\n",
    "class Params:\n",
    "    def __init__(self, project_file):\n",
    "        self.params = yaml.safe_load(open(project_file).read())\n",
    "\n",
    "    def __getattr__(self, item):\n",
    "        return self.params.get(item, None)\n",
    "\n",
    "\n",
    "def get_args():\n",
    "    parser = argparse.ArgumentParser('Yet Another EfficientDet Pytorch: SOTA object detection network - Zylo117')\n",
    "    parser.add_argument('-p', '--project', type=str, default='brain', help='project file that contains parameters')\n",
    "    parser.add_argument('-c', '--compound_coef', type=int, default=0, help='coefficients of efficientdet')\n",
    "    parser.add_argument('-n', '--num_workers', type=int, default=4, help='num_workers of dataloader')\n",
    "    parser.add_argument('--batch_size', type=int, default=32, help='The number of images per batch among all devices')\n",
    "    parser.add_argument('--head_only', type=boolean_string, default=False,\n",
    "                        help='whether finetunes only the regressor and the classifier, '\n",
    "                             'useful in early stage convergence or small/easy dataset')\n",
    "    parser.add_argument('--lr', type=float, default=1e-4)\n",
    "    parser.add_argument('--optim', type=str, default='adamw', help='select optimizer for training, '\n",
    "                                                                   'suggest using \\'admaw\\' until the'\n",
    "                                                                   ' very final stage then switch to \\'sgd\\'')\n",
    "    parser.add_argument('--num_epochs', type=int, default=20)\n",
    "    parser.add_argument('--val_interval', type=int, default=1, help='Number of epoches between valing phases')\n",
    "    parser.add_argument('--save_interval', type=int, default=60, help='Number of steps between saving')\n",
    "    parser.add_argument('--es_min_delta', type=float, default=0.0,\n",
    "                        help='Early stopping\\'s parameter: minimum change loss to qualify as an improvement')\n",
    "    parser.add_argument('--es_patience', type=int, default=0,\n",
    "                        help='Early stopping\\'s parameter: number of epochs with no improvement after which training will be stopped. Set to 0 to disable this technique.')\n",
    "    parser.add_argument('--data_path', type=str, default='datasets/', help='the root folder of dataset')\n",
    "    parser.add_argument('--log_path', type=str, default='logs/')\n",
    "    parser.add_argument('-w', '--load_weights', type=str, default=None,\n",
    "                        help='whether to load weights from a checkpoint, set None to initialize, set \\'last\\' to load last checkpoint')\n",
    "    parser.add_argument('--saved_path', type=str, default='logs/')\n",
    "    parser.add_argument('--debug', type=boolean_string, default=False,\n",
    "                        help='whether visualize the predicted boxes of training, '\n",
    "                             'the output images will be in test/')\n",
    "    parser.add_argument('-f')\n",
    "    args = parser.parse_args()\n",
    "    return args\n",
    "\n",
    "\n",
    "class ModelWithLoss(nn.Module):\n",
    "    def __init__(self, model, debug=False):\n",
    "        super().__init__()\n",
    "        self.criterion = FocalLoss()\n",
    "        self.model = model\n",
    "        self.debug = debug\n",
    "\n",
    "    def forward(self, imgs, annotations, obj_list=None):\n",
    "        _, regression, classification, anchors = self.model(imgs)\n",
    "        if self.debug:\n",
    "            cls_loss, reg_loss = self.criterion(classification, regression, anchors, annotations,\n",
    "                                                imgs=imgs, obj_list=obj_list)\n",
    "        else:\n",
    "            cls_loss, reg_loss = self.criterion(classification, regression, anchors, annotations)\n",
    "        return cls_loss, reg_loss\n",
    "\n",
    "\n"
   ]
  },
  {
   "cell_type": "code",
   "execution_count": 2,
   "id": "a1c60138-0edd-4754-94a7-65bdecc9c4c2",
   "metadata": {
    "scrolled": true,
    "tags": []
   },
   "outputs": [
    {
     "name": "stdout",
     "output_type": "stream",
     "text": [
      "Current cuda device  2\n",
      "TITAN RTX\n",
      "Memory Usage:\n",
      "Allocated: 0.0 GB\n",
      "Cached:    0.0 GB\n",
      "[Info] initializing weights...\n"
     ]
    },
    {
     "name": "stderr",
     "output_type": "stream",
     "text": [
      "/home/kuchoco97/.local/lib/python3.6/site-packages/torch/cuda/memory.py:346: FutureWarning: torch.cuda.memory_cached has been renamed to torch.cuda.memory_reserved\n",
      "  FutureWarning)\n"
     ]
    },
    {
     "data": {
      "application/vnd.jupyter.widget-view+json": {
       "model_id": "9d4a4011a7524f07bff9ee4efadadc57",
       "version_major": 2,
       "version_minor": 0
      },
      "text/plain": [
       "  0%|          | 0/188 [00:00<?, ?it/s]"
      ]
     },
     "metadata": {},
     "output_type": "display_data"
    },
    {
     "name": "stdout",
     "output_type": "stream",
     "text": [
      "checkpoint...\n",
      "checkpoint...\n",
      "checkpoint...\n",
      "Val. Epoch: 0/20. Classification loss: 0.43997. Regression loss: 2.13967. Total loss: 2.57964\n"
     ]
    },
    {
     "data": {
      "application/vnd.jupyter.widget-view+json": {
       "model_id": "2b989fb06061460da6d326c9d4c61287",
       "version_major": 2,
       "version_minor": 0
      },
      "text/plain": [
       "  0%|          | 0/188 [00:00<?, ?it/s]"
      ]
     },
     "metadata": {},
     "output_type": "display_data"
    },
    {
     "name": "stdout",
     "output_type": "stream",
     "text": [
      "checkpoint...\n",
      "checkpoint...\n",
      "checkpoint...\n",
      "Val. Epoch: 1/20. Classification loss: 0.44220. Regression loss: 2.15955. Total loss: 2.60175\n"
     ]
    },
    {
     "data": {
      "application/vnd.jupyter.widget-view+json": {
       "model_id": "433c611f7c6b4927a4a8fa93fb75bfc5",
       "version_major": 2,
       "version_minor": 0
      },
      "text/plain": [
       "  0%|          | 0/188 [00:00<?, ?it/s]"
      ]
     },
     "metadata": {},
     "output_type": "display_data"
    },
    {
     "name": "stdout",
     "output_type": "stream",
     "text": [
      "checkpoint...\n",
      "checkpoint...\n",
      "checkpoint...\n",
      "Val. Epoch: 2/20. Classification loss: 0.45006. Regression loss: 2.12701. Total loss: 2.57707\n"
     ]
    },
    {
     "data": {
      "application/vnd.jupyter.widget-view+json": {
       "model_id": "1d547c81757a4b20a61ca151e0f84daf",
       "version_major": 2,
       "version_minor": 0
      },
      "text/plain": [
       "  0%|          | 0/188 [00:00<?, ?it/s]"
      ]
     },
     "metadata": {},
     "output_type": "display_data"
    },
    {
     "name": "stdout",
     "output_type": "stream",
     "text": [
      "checkpoint...\n",
      "checkpoint...\n",
      "checkpoint...\n",
      "Val. Epoch: 3/20. Classification loss: 0.46108. Regression loss: 2.07261. Total loss: 2.53370\n"
     ]
    },
    {
     "data": {
      "application/vnd.jupyter.widget-view+json": {
       "model_id": "0a94d12dc0a0454eb033e0809a3b81f3",
       "version_major": 2,
       "version_minor": 0
      },
      "text/plain": [
       "  0%|          | 0/188 [00:00<?, ?it/s]"
      ]
     },
     "metadata": {},
     "output_type": "display_data"
    },
    {
     "name": "stdout",
     "output_type": "stream",
     "text": [
      "checkpoint...\n",
      "checkpoint...\n",
      "checkpoint...\n",
      "Val. Epoch: 4/20. Classification loss: 0.45261. Regression loss: 2.00074. Total loss: 2.45335\n"
     ]
    },
    {
     "data": {
      "application/vnd.jupyter.widget-view+json": {
       "model_id": "fce1f1bdeb4941e6ad85cb75247caf63",
       "version_major": 2,
       "version_minor": 0
      },
      "text/plain": [
       "  0%|          | 0/188 [00:00<?, ?it/s]"
      ]
     },
     "metadata": {},
     "output_type": "display_data"
    },
    {
     "name": "stdout",
     "output_type": "stream",
     "text": [
      "checkpoint...\n",
      "checkpoint...\n",
      "checkpoint...\n",
      "Val. Epoch: 5/20. Classification loss: 0.44873. Regression loss: 1.98171. Total loss: 2.43044\n"
     ]
    },
    {
     "data": {
      "application/vnd.jupyter.widget-view+json": {
       "model_id": "1137398332c54ca8b592bd0ae233867b",
       "version_major": 2,
       "version_minor": 0
      },
      "text/plain": [
       "  0%|          | 0/188 [00:00<?, ?it/s]"
      ]
     },
     "metadata": {},
     "output_type": "display_data"
    },
    {
     "name": "stdout",
     "output_type": "stream",
     "text": [
      "checkpoint...\n",
      "checkpoint...\n",
      "checkpoint...\n",
      "Val. Epoch: 6/20. Classification loss: 0.44773. Regression loss: 1.98785. Total loss: 2.43558\n"
     ]
    },
    {
     "data": {
      "application/vnd.jupyter.widget-view+json": {
       "model_id": "e3cf6fc6105f4fafa97894e19fafd35f",
       "version_major": 2,
       "version_minor": 0
      },
      "text/plain": [
       "  0%|          | 0/188 [00:00<?, ?it/s]"
      ]
     },
     "metadata": {},
     "output_type": "display_data"
    },
    {
     "name": "stdout",
     "output_type": "stream",
     "text": [
      "checkpoint...\n",
      "checkpoint...\n",
      "checkpoint...\n",
      "checkpoint...\n",
      "Val. Epoch: 7/20. Classification loss: 0.44746. Regression loss: 1.98340. Total loss: 2.43086\n"
     ]
    },
    {
     "data": {
      "application/vnd.jupyter.widget-view+json": {
       "model_id": "4898d2dd086243259c054b694e17dda1",
       "version_major": 2,
       "version_minor": 0
      },
      "text/plain": [
       "  0%|          | 0/188 [00:00<?, ?it/s]"
      ]
     },
     "metadata": {},
     "output_type": "display_data"
    },
    {
     "name": "stdout",
     "output_type": "stream",
     "text": [
      "checkpoint...\n",
      "checkpoint...\n",
      "checkpoint...\n",
      "Val. Epoch: 8/20. Classification loss: 0.43936. Regression loss: 1.93124. Total loss: 2.37060\n"
     ]
    },
    {
     "data": {
      "application/vnd.jupyter.widget-view+json": {
       "model_id": "9fe9f461dfe64528af16d1c5a93fde3f",
       "version_major": 2,
       "version_minor": 0
      },
      "text/plain": [
       "  0%|          | 0/188 [00:00<?, ?it/s]"
      ]
     },
     "metadata": {},
     "output_type": "display_data"
    },
    {
     "name": "stdout",
     "output_type": "stream",
     "text": [
      "checkpoint...\n",
      "checkpoint...\n",
      "checkpoint...\n",
      "Val. Epoch: 9/20. Classification loss: 0.43291. Regression loss: 1.90299. Total loss: 2.33590\n"
     ]
    },
    {
     "data": {
      "application/vnd.jupyter.widget-view+json": {
       "model_id": "79c7372ccd7b4655a021292604d11388",
       "version_major": 2,
       "version_minor": 0
      },
      "text/plain": [
       "  0%|          | 0/188 [00:00<?, ?it/s]"
      ]
     },
     "metadata": {},
     "output_type": "display_data"
    },
    {
     "name": "stdout",
     "output_type": "stream",
     "text": [
      "checkpoint...\n",
      "checkpoint...\n",
      "checkpoint...\n",
      "Val. Epoch: 10/20. Classification loss: 0.43913. Regression loss: 1.93930. Total loss: 2.37842\n"
     ]
    },
    {
     "data": {
      "application/vnd.jupyter.widget-view+json": {
       "model_id": "8c5fd91f4ec348fb8dccf04bf04b1346",
       "version_major": 2,
       "version_minor": 0
      },
      "text/plain": [
       "  0%|          | 0/188 [00:00<?, ?it/s]"
      ]
     },
     "metadata": {},
     "output_type": "display_data"
    },
    {
     "name": "stdout",
     "output_type": "stream",
     "text": [
      "checkpoint...\n",
      "checkpoint...\n",
      "checkpoint...\n",
      "Val. Epoch: 11/20. Classification loss: 0.43235. Regression loss: 1.90833. Total loss: 2.34068\n"
     ]
    },
    {
     "data": {
      "application/vnd.jupyter.widget-view+json": {
       "model_id": "a6b32273723c4ee792f3728db0675fb7",
       "version_major": 2,
       "version_minor": 0
      },
      "text/plain": [
       "  0%|          | 0/188 [00:00<?, ?it/s]"
      ]
     },
     "metadata": {},
     "output_type": "display_data"
    },
    {
     "name": "stdout",
     "output_type": "stream",
     "text": [
      "checkpoint...\n",
      "checkpoint...\n",
      "checkpoint...\n",
      "Val. Epoch: 12/20. Classification loss: 0.43392. Regression loss: 1.92093. Total loss: 2.35486\n"
     ]
    },
    {
     "data": {
      "application/vnd.jupyter.widget-view+json": {
       "model_id": "2d12b965c05147ddb7c9e969292cde33",
       "version_major": 2,
       "version_minor": 0
      },
      "text/plain": [
       "  0%|          | 0/188 [00:00<?, ?it/s]"
      ]
     },
     "metadata": {},
     "output_type": "display_data"
    },
    {
     "name": "stdout",
     "output_type": "stream",
     "text": [
      "checkpoint...\n",
      "checkpoint...\n",
      "checkpoint...\n",
      "Val. Epoch: 13/20. Classification loss: 0.43149. Regression loss: 1.89484. Total loss: 2.32633\n"
     ]
    },
    {
     "data": {
      "application/vnd.jupyter.widget-view+json": {
       "model_id": "e5296f0bf6724fd499971323d83d3480",
       "version_major": 2,
       "version_minor": 0
      },
      "text/plain": [
       "  0%|          | 0/188 [00:00<?, ?it/s]"
      ]
     },
     "metadata": {},
     "output_type": "display_data"
    },
    {
     "name": "stdout",
     "output_type": "stream",
     "text": [
      "checkpoint...\n",
      "checkpoint...\n",
      "checkpoint...\n",
      "checkpoint...\n",
      "Val. Epoch: 14/20. Classification loss: 0.42876. Regression loss: 1.88525. Total loss: 2.31401\n"
     ]
    },
    {
     "data": {
      "application/vnd.jupyter.widget-view+json": {
       "model_id": "e18e0f36622c4a3ea2a2d664042bfee4",
       "version_major": 2,
       "version_minor": 0
      },
      "text/plain": [
       "  0%|          | 0/188 [00:00<?, ?it/s]"
      ]
     },
     "metadata": {},
     "output_type": "display_data"
    },
    {
     "name": "stdout",
     "output_type": "stream",
     "text": [
      "checkpoint...\n",
      "checkpoint...\n",
      "checkpoint...\n",
      "Val. Epoch: 15/20. Classification loss: 0.42628. Regression loss: 1.87589. Total loss: 2.30217\n"
     ]
    },
    {
     "data": {
      "application/vnd.jupyter.widget-view+json": {
       "model_id": "6793f68209104903b5119e0f8a786939",
       "version_major": 2,
       "version_minor": 0
      },
      "text/plain": [
       "  0%|          | 0/188 [00:00<?, ?it/s]"
      ]
     },
     "metadata": {},
     "output_type": "display_data"
    },
    {
     "name": "stdout",
     "output_type": "stream",
     "text": [
      "checkpoint...\n",
      "checkpoint...\n",
      "checkpoint...\n",
      "Val. Epoch: 16/20. Classification loss: 0.41933. Regression loss: 1.84810. Total loss: 2.26743\n"
     ]
    },
    {
     "data": {
      "application/vnd.jupyter.widget-view+json": {
       "model_id": "5f4a5c1cea994f1c9f52a57f31e0247c",
       "version_major": 2,
       "version_minor": 0
      },
      "text/plain": [
       "  0%|          | 0/188 [00:00<?, ?it/s]"
      ]
     },
     "metadata": {},
     "output_type": "display_data"
    },
    {
     "name": "stdout",
     "output_type": "stream",
     "text": [
      "checkpoint...\n",
      "checkpoint...\n",
      "checkpoint...\n",
      "Val. Epoch: 17/20. Classification loss: 0.41569. Regression loss: 1.82469. Total loss: 2.24037\n"
     ]
    },
    {
     "data": {
      "application/vnd.jupyter.widget-view+json": {
       "model_id": "bbac58c628f1494a82a3ca97847f1347",
       "version_major": 2,
       "version_minor": 0
      },
      "text/plain": [
       "  0%|          | 0/188 [00:00<?, ?it/s]"
      ]
     },
     "metadata": {},
     "output_type": "display_data"
    },
    {
     "name": "stdout",
     "output_type": "stream",
     "text": [
      "checkpoint...\n",
      "checkpoint...\n",
      "checkpoint...\n",
      "Val. Epoch: 18/20. Classification loss: 0.41589. Regression loss: 1.84386. Total loss: 2.25976\n"
     ]
    },
    {
     "data": {
      "application/vnd.jupyter.widget-view+json": {
       "model_id": "3bb0aae8cc364c4ba8ea6e018670c598",
       "version_major": 2,
       "version_minor": 0
      },
      "text/plain": [
       "  0%|          | 0/188 [00:00<?, ?it/s]"
      ]
     },
     "metadata": {},
     "output_type": "display_data"
    },
    {
     "name": "stdout",
     "output_type": "stream",
     "text": [
      "checkpoint...\n",
      "checkpoint...\n",
      "checkpoint...\n",
      "Val. Epoch: 19/20. Classification loss: 0.40310. Regression loss: 1.78597. Total loss: 2.18907\n"
     ]
    }
   ],
   "source": [
    "def train(opt):\n",
    "    params = Params(f'projects/{opt.project}.yml')\n",
    "\n",
    "    if params.num_gpus == 0:\n",
    "        os.environ['CUDA_VISIBLE_DEVICES'] = '-1'\n",
    "\n",
    "    if torch.cuda.is_available():\n",
    "        torch.cuda.manual_seed(42)\n",
    "    else:\n",
    "        torch.manual_seed(42)\n",
    "    \n",
    "    GPU_NUM = 2 # 원하는 GPU 번호 입력\n",
    "    device = torch.device(f'cuda:{GPU_NUM}' if torch.cuda.is_available() else 'cpu')\n",
    "    torch.cuda.set_device(device) # change allocation of current GPU\n",
    "    print ('Current cuda device ', torch.cuda.current_device()) # check\n",
    "    # Additional Infos\n",
    "    if device.type == 'cuda':\n",
    "        print(torch.cuda.get_device_name(GPU_NUM))\n",
    "        print('Memory Usage:')\n",
    "        print('Allocated:', round(torch.cuda.memory_allocated(GPU_NUM)/1024**3,1), 'GB')\n",
    "        print('Cached:   ', round(torch.cuda.memory_cached(GPU_NUM)/1024**3,1), 'GB')\n",
    "    \n",
    "    \n",
    "    opt.saved_path = opt.saved_path + f'/{params.project_name}/'\n",
    "    opt.log_path = opt.log_path + f'/{params.project_name}/tensorboard/'\n",
    "    os.makedirs(opt.log_path, exist_ok=True)\n",
    "    os.makedirs(opt.saved_path, exist_ok=True)\n",
    "\n",
    "    training_params = {'batch_size': opt.batch_size,\n",
    "                       'shuffle': True,\n",
    "                       'drop_last': True,\n",
    "                       'collate_fn': collater,\n",
    "                       'num_workers': opt.num_workers}\n",
    "\n",
    "    val_params = {'batch_size': opt.batch_size,\n",
    "                  'shuffle': False,\n",
    "                  'drop_last': True,\n",
    "                  'collate_fn': collater,\n",
    "                  'num_workers': opt.num_workers}\n",
    "\n",
    "    input_sizes = [512, 640, 768, 896, 1024, 1280, 1280, 1536, 1536]\n",
    "    \n",
    "    \n",
    "    \n",
    "    ds = BrainDataset(ann, transform=Resizer())\n",
    "\n",
    "    train_ds, validation_ds  = torch.utils.data.random_split(ds, [6000, 1285], generator=torch.Generator().manual_seed(40))\n",
    "\n",
    "    training_generator = DataLoader(train_ds,\n",
    "                              batch_size=32,\n",
    "                              num_workers=4,\n",
    "                              shuffle=True,\n",
    "                              collate_fn = collater)\n",
    "\n",
    "    val_generator = DataLoader(validation_ds,\n",
    "                                   batch_size=32,\n",
    "                                   num_workers=4,\n",
    "                                   shuffle=True,\n",
    "                                   collate_fn = collater)\n",
    "    \n",
    "    model = EfficientDetBackbone(num_classes=len(params.obj_list), compound_coef=opt.compound_coef,\n",
    "                                 ratios=eval(params.anchors_ratios), scales=eval(params.anchors_scales))\n",
    "    # load last weights\n",
    "    if opt.load_weights is not None:\n",
    "        if opt.load_weights.endswith('.pth'):\n",
    "            weights_path = opt.load_weights\n",
    "        else:\n",
    "            weights_path = get_last_weights(opt.saved_path)\n",
    "        try:\n",
    "            last_step = int(os.path.basename(weights_path).split('_')[-1].split('.')[0])\n",
    "        except:\n",
    "            last_step = 0\n",
    "\n",
    "        try:\n",
    "            ret = model.load_state_dict(torch.load(weights_path), strict=False)\n",
    "        except RuntimeError as e:\n",
    "            print(f'[Warning] Ignoring {e}')\n",
    "            print(\n",
    "                '[Warning] Don\\'t panic if you see this, this might be because you load a pretrained weights with different number of classes. The rest of the weights should be loaded already.')\n",
    "\n",
    "        print(f'[Info] loaded weights: {os.path.basename(weights_path)}, resuming checkpoint from step: {last_step}')\n",
    "    else:\n",
    "        last_step = 0\n",
    "        print('[Info] initializing weights...')\n",
    "        init_weights(model)\n",
    "\n",
    "    # freeze backbone if train head_only\n",
    "    if opt.head_only:\n",
    "        def freeze_backbone(m):\n",
    "            classname = m.__class__.__name__\n",
    "            for ntl in ['EfficientNet', 'BiFPN']:\n",
    "                if ntl in classname:\n",
    "                    for param in m.parameters():\n",
    "                        param.requires_grad = False\n",
    "\n",
    "        model.apply(freeze_backbone)\n",
    "        print('[Info] freezed backbone')\n",
    "\n",
    "    # https://github.com/vacancy/Synchronized-BatchNorm-PyTorch\n",
    "    # apply sync_bn when using multiple gpu and batch_size per gpu is lower than 4\n",
    "    #  useful when gpu memory is limited.\n",
    "    # because when bn is disable, the training will be very unstable or slow to converge,\n",
    "    # apply sync_bn can solve it,\n",
    "    # by packing all mini-batch across all gpus as one batch and normalize, then send it back to all gpus.\n",
    "    # but it would also slow down the training by a little bit.\n",
    "    if params.num_gpus > 1 and opt.batch_size // params.num_gpus < 4:\n",
    "        model.apply(replace_w_sync_bn)\n",
    "        use_sync_bn = True\n",
    "    else:\n",
    "        use_sync_bn = False\n",
    "\n",
    "    writer = SummaryWriter(opt.log_path + f'/{datetime.datetime.now().strftime(\"%Y%m%d-%H%M%S\")}/')\n",
    "\n",
    "    # warp the model with loss function, to reduce the memory usage on gpu0 and speedup\n",
    "    model = ModelWithLoss(model, debug=opt.debug)\n",
    "\n",
    "    if params.num_gpus > 0:\n",
    "        model = model.cuda()\n",
    "        if params.num_gpus > 1:\n",
    "            model = CustomDataParallel(model, params.num_gpus)\n",
    "            if use_sync_bn:\n",
    "                patch_replication_callback(model)\n",
    "\n",
    "    if opt.optim == 'adamw':\n",
    "        optimizer = torch.optim.AdamW(model.parameters(), opt.lr)\n",
    "    else:\n",
    "        optimizer = torch.optim.SGD(model.parameters(), opt.lr, momentum=0.9, nesterov=True)\n",
    "\n",
    "    scheduler = torch.optim.lr_scheduler.ReduceLROnPlateau(optimizer, patience=3, verbose=True)\n",
    "\n",
    "    epoch = 0\n",
    "    best_loss = 1e5\n",
    "    best_epoch = 0\n",
    "    step = max(0, last_step)\n",
    "    model.train()\n",
    "\n",
    "    num_iter_per_epoch = len(training_generator)\n",
    "\n",
    "    try:\n",
    "        for epoch in range(opt.num_epochs):\n",
    "            last_epoch = step // num_iter_per_epoch\n",
    "            if epoch < last_epoch:\n",
    "                continue\n",
    "\n",
    "            epoch_loss = []\n",
    "            progress_bar = tqdm(training_generator)\n",
    "            for iter, data in enumerate(progress_bar):\n",
    "                if iter < step - last_epoch * num_iter_per_epoch:\n",
    "                    progress_bar.update()\n",
    "                    continue\n",
    "                try:\n",
    "                    imgs = data['img']\n",
    "                    annot = data['annot']\n",
    "\n",
    "                    if params.num_gpus == 1:\n",
    "                        # if only one gpu, just send it to cuda:0\n",
    "                        # elif multiple gpus, send it to multiple gpus in CustomDataParallel, not here\n",
    "                        imgs = imgs.cuda()\n",
    "                        annot = annot.cuda()\n",
    "\n",
    "                    optimizer.zero_grad()\n",
    "                    cls_loss, reg_loss = model(imgs, annot, obj_list=params.obj_list)\n",
    "                    cls_loss = cls_loss.mean()\n",
    "                    reg_loss = reg_loss.mean()\n",
    "\n",
    "                    loss = cls_loss + reg_loss\n",
    "                    if loss == 0 or not torch.isfinite(loss):\n",
    "                        continue\n",
    "\n",
    "                    loss.backward()\n",
    "                    # torch.nn.utils.clip_grad_norm_(model.parameters(), 0.1)\n",
    "                    optimizer.step()\n",
    "\n",
    "                    epoch_loss.append(float(loss))\n",
    "\n",
    "                    progress_bar.set_description(\n",
    "                        'Step: {}. Epoch: {}/{}. Iteration: {}/{}. Cls loss: {:.5f}. Reg loss: {:.5f}. Total loss: {:.5f}'.format(\n",
    "                            step, epoch, opt.num_epochs, iter + 1, num_iter_per_epoch, cls_loss.item(),\n",
    "                            reg_loss.item(), loss.item()))\n",
    "                    writer.add_scalars('Loss', {'train': loss}, step)\n",
    "                    writer.add_scalars('Regression_loss', {'train': reg_loss}, step)\n",
    "                    writer.add_scalars('Classfication_loss', {'train': cls_loss}, step)\n",
    "\n",
    "                    # log learning_rate\n",
    "                    current_lr = optimizer.param_groups[0]['lr']\n",
    "                    writer.add_scalar('learning_rate', current_lr, step)\n",
    "\n",
    "                    step += 1\n",
    "\n",
    "                    if step % opt.save_interval == 0 and step > 0:\n",
    "                        save_checkpoint(model, f'efficientdet-d{opt.compound_coef}_{epoch}_{step}.pth')\n",
    "                        print('checkpoint...')\n",
    "\n",
    "                except Exception as e:\n",
    "                    print('[Error]', traceback.format_exc())\n",
    "                    print(e)\n",
    "                    continue\n",
    "            scheduler.step(np.mean(epoch_loss))\n",
    "\n",
    "            if epoch % opt.val_interval == 0:\n",
    "                model.eval()\n",
    "                loss_regression_ls = []\n",
    "                loss_classification_ls = []\n",
    "                for iter, data in enumerate(val_generator):\n",
    "                    with torch.no_grad():\n",
    "                        imgs = data['img']\n",
    "                        annot = data['annot']\n",
    "\n",
    "                        if params.num_gpus == 1:\n",
    "                            imgs = imgs.cuda()\n",
    "                            annot = annot.cuda()\n",
    "\n",
    "                        cls_loss, reg_loss = model(imgs, annot, obj_list=params.obj_list)\n",
    "                        cls_loss = cls_loss.mean()\n",
    "                        reg_loss = reg_loss.mean()\n",
    "\n",
    "                        loss = cls_loss + reg_loss\n",
    "                        if loss == 0 or not torch.isfinite(loss):\n",
    "                            continue\n",
    "\n",
    "                        loss_classification_ls.append(cls_loss.item())\n",
    "                        loss_regression_ls.append(reg_loss.item())\n",
    "\n",
    "                cls_loss = np.mean(loss_classification_ls)\n",
    "                reg_loss = np.mean(loss_regression_ls)\n",
    "                loss = cls_loss + reg_loss\n",
    "\n",
    "                print(\n",
    "                    'Val. Epoch: {}/{}. Classification loss: {:1.5f}. Regression loss: {:1.5f}. Total loss: {:1.5f}'.format(\n",
    "                        epoch, opt.num_epochs, cls_loss, reg_loss, loss))\n",
    "                writer.add_scalars('Loss', {'val': loss}, step)\n",
    "                writer.add_scalars('Regression_loss', {'val': reg_loss}, step)\n",
    "                writer.add_scalars('Classfication_loss', {'val': cls_loss}, step)\n",
    "\n",
    "                if loss + opt.es_min_delta < best_loss:\n",
    "                    best_loss = loss\n",
    "                    best_epoch = epoch\n",
    "\n",
    "                    save_checkpoint(model, f'efficientdet-d{opt.compound_coef}_{epoch}_{step}.pth')\n",
    "\n",
    "                model.train()\n",
    "\n",
    "                # Early stopping\n",
    "                if epoch - best_epoch > opt.es_patience > 0:\n",
    "                    print('[Info] Stop training at epoch {}. The lowest loss achieved is {}'.format(epoch, best_loss))\n",
    "                    break\n",
    "    except KeyboardInterrupt:\n",
    "        save_checkpoint(model, f'efficientdet-d{opt.compound_coef}_{epoch}_{step}.pth')\n",
    "        writer.close()\n",
    "    writer.close()\n",
    "\n",
    "\n",
    "def save_checkpoint(model, name):\n",
    "    if isinstance(model, CustomDataParallel):\n",
    "        torch.save(model.module.model.state_dict(), os.path.join(opt.saved_path, name))\n",
    "    else:\n",
    "        torch.save(model.model.state_dict(), os.path.join(opt.saved_path, name))\n",
    "\n",
    "\n",
    "if __name__ == '__main__':\n",
    "    opt = get_args()\n",
    "    train(opt)\n"
   ]
  },
  {
   "cell_type": "code",
   "execution_count": null,
   "id": "324eb8bf-589b-4b69-94eb-0c9ed7acdcae",
   "metadata": {},
   "outputs": [],
   "source": []
  },
  {
   "cell_type": "code",
   "execution_count": null,
   "id": "c2e20027-5a8b-4545-911e-28de8e34ccbc",
   "metadata": {},
   "outputs": [],
   "source": []
  },
  {
   "cell_type": "code",
   "execution_count": null,
   "id": "2a312cb3-b994-4309-ba0d-61e11d238bf8",
   "metadata": {},
   "outputs": [],
   "source": []
  },
  {
   "cell_type": "code",
   "execution_count": null,
   "id": "c6781ef4-50d1-414b-85c2-b7fd885f3323",
   "metadata": {},
   "outputs": [],
   "source": []
  },
  {
   "cell_type": "code",
   "execution_count": null,
   "id": "e0f6bde4-a4d9-4885-97dd-4644221efbf5",
   "metadata": {},
   "outputs": [],
   "source": []
  },
  {
   "cell_type": "code",
   "execution_count": null,
   "id": "39687360-0450-4ebc-87ed-e89a8819f217",
   "metadata": {},
   "outputs": [],
   "source": []
  },
  {
   "cell_type": "code",
   "execution_count": null,
   "id": "31fb9b35-36b5-4cbd-a15b-a6716a41a2d2",
   "metadata": {},
   "outputs": [],
   "source": []
  },
  {
   "cell_type": "code",
   "execution_count": null,
   "id": "04f109e0-452a-4a20-8311-bd5f6af9d2c3",
   "metadata": {},
   "outputs": [],
   "source": []
  },
  {
   "cell_type": "code",
   "execution_count": null,
   "id": "617568e9-adb1-455c-ba3f-3d1b39e14ee3",
   "metadata": {},
   "outputs": [],
   "source": []
  }
 ],
 "metadata": {
  "kernelspec": {
   "display_name": "Python 3",
   "language": "python",
   "name": "python3"
  },
  "language_info": {
   "codemirror_mode": {
    "name": "ipython",
    "version": 3
   },
   "file_extension": ".py",
   "mimetype": "text/x-python",
   "name": "python",
   "nbconvert_exporter": "python",
   "pygments_lexer": "ipython3",
   "version": "3.6.9"
  }
 },
 "nbformat": 4,
 "nbformat_minor": 5
}
