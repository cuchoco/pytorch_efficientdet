{
 "cells": [
  {
   "cell_type": "code",
   "execution_count": 1,
   "id": "b10feb7b",
   "metadata": {},
   "outputs": [],
   "source": [
    "# original author: signatrix\n",
    "# adapted from https://github.com/signatrix/efficientdet/blob/master/train.py\n",
    "# modified by Zylo117\n",
    "\n",
    "import argparse\n",
    "import datetime\n",
    "import os\n",
    "import traceback\n",
    "\n",
    "import numpy as np\n",
    "import torch\n",
    "import yaml\n",
    "from tensorboardX import SummaryWriter\n",
    "from torch import nn\n",
    "from torch.utils.data import DataLoader\n",
    "from torchvision import transforms\n",
    "from tqdm.autonotebook import tqdm\n",
    "\n",
    "from backbone import EfficientDetBackbone\n",
    "from efficientdet.dataset import BrainDataset, Resizer, Normalizer, Augmenter, collater\n",
    "from efficientdet.loss import FocalLoss\n",
    "from utils.sync_batchnorm import patch_replication_callback\n",
    "from utils.utils import replace_w_sync_bn, CustomDataParallel, get_last_weights, init_weights, boolean_string\n",
    "import json\n",
    "\n",
    "data_path = '/home/kuchoco97/work/brain/data/'\n",
    "\n",
    "with open(data_path + 'hem_frac_train_03.json', 'r') as file:\n",
    "    ann = json.load(file)\n",
    "\n",
    "\n",
    "\n",
    "class Params:\n",
    "    def __init__(self, project_file):\n",
    "        self.params = yaml.safe_load(open(project_file).read())\n",
    "\n",
    "    def __getattr__(self, item):\n",
    "        return self.params.get(item, None)\n",
    "\n",
    "\n",
    "def get_args():\n",
    "    parser = argparse.ArgumentParser('Yet Another EfficientDet Pytorch: SOTA object detection network - Zylo117')\n",
    "    parser.add_argument('-p', '--project', type=str, default='brain', help='project file that contains parameters')\n",
    "    parser.add_argument('-c', '--compound_coef', type=int, default=0, help='coefficients of efficientdet')\n",
    "    parser.add_argument('-n', '--num_workers', type=int, default=4, help='num_workers of dataloader')\n",
    "    parser.add_argument('--batch_size', type=int, default=32, help='The number of images per batch among all devices')\n",
    "    parser.add_argument('--head_only', type=boolean_string, default=False,\n",
    "                        help='whether finetunes only the regressor and the classifier, '\n",
    "                             'useful in early stage convergence or small/easy dataset')\n",
    "    parser.add_argument('--lr', type=float, default=1e-4)\n",
    "    parser.add_argument('--optim', type=str, default='adamw', help='select optimizer for training, '\n",
    "                                                                   'suggest using \\'admaw\\' until the'\n",
    "                                                                   ' very final stage then switch to \\'sgd\\'')\n",
    "    parser.add_argument('--num_epochs', type=int, default=200)\n",
    "    parser.add_argument('--val_interval', type=int, default=1, help='Number of epoches between valing phases')\n",
    "    parser.add_argument('--save_interval', type=int, default=100, help='Number of steps between saving')\n",
    "    parser.add_argument('--es_min_delta', type=float, default=0.0,\n",
    "                        help='Early stopping\\'s parameter: minimum change loss to qualify as an improvement')\n",
    "    parser.add_argument('--es_patience', type=int, default=0,\n",
    "                        help='Early stopping\\'s parameter: number of epochs with no improvement after which training will be stopped. Set to 0 to disable this technique.')\n",
    "    parser.add_argument('--data_path', type=str, default='datasets/', help='the root folder of dataset')\n",
    "    parser.add_argument('--log_path', type=str, default='logs/')\n",
    "    parser.add_argument('-w', '--load_weights', type=str, default=None,\n",
    "                        help='whether to load weights from a checkpoint, set None to initialize, set \\'last\\' to load last checkpoint')\n",
    "    parser.add_argument('--saved_path', type=str, default='logs/')\n",
    "    parser.add_argument('--debug', type=boolean_string, default=False,\n",
    "                        help='whether visualize the predicted boxes of training, '\n",
    "                             'the output images will be in test/')\n",
    "    parser.add_argument('-f')\n",
    "    args = parser.parse_args()\n",
    "    return args\n",
    "\n",
    "\n",
    "class ModelWithLoss(nn.Module):\n",
    "    def __init__(self, model, debug=False):\n",
    "        super().__init__()\n",
    "        self.criterion = FocalLoss()\n",
    "        self.model = model\n",
    "        self.debug = debug\n",
    "\n",
    "    def forward(self, imgs, annotations, obj_list=None):\n",
    "        _, regression, classification, anchors = self.model(imgs)\n",
    "        if self.debug:\n",
    "            cls_loss, reg_loss = self.criterion(classification, regression, anchors, annotations,\n",
    "                                                imgs=imgs, obj_list=obj_list)\n",
    "        else:\n",
    "            cls_loss, reg_loss = self.criterion(classification, regression, anchors, annotations)\n",
    "        return cls_loss, reg_loss\n",
    "\n",
    "\n"
   ]
  },
  {
   "cell_type": "code",
   "execution_count": 2,
   "id": "d105a9d3",
   "metadata": {
    "scrolled": true,
    "tags": []
   },
   "outputs": [
    {
     "name": "stdout",
     "output_type": "stream",
     "text": [
      "Current cuda device  2\n",
      "TITAN RTX\n",
      "Memory Usage:\n",
      "Allocated: 0.0 GB\n",
      "Cached:    0.0 GB\n",
      "[Info] initializing weights...\n"
     ]
    },
    {
     "name": "stderr",
     "output_type": "stream",
     "text": [
      "/home/kuchoco97/.local/lib/python3.6/site-packages/torch/cuda/memory.py:346: FutureWarning: torch.cuda.memory_cached has been renamed to torch.cuda.memory_reserved\n",
      "  FutureWarning)\n"
     ]
    },
    {
     "data": {
      "application/vnd.jupyter.widget-view+json": {
       "model_id": "ef9e9af483fa47dc9c11434f43e31564",
       "version_major": 2,
       "version_minor": 0
      },
      "text/plain": [
       "  0%|          | 0/188 [00:00<?, ?it/s]"
      ]
     },
     "metadata": {},
     "output_type": "display_data"
    },
    {
     "name": "stdout",
     "output_type": "stream",
     "text": [
      "checkpoint...\n",
      "Val. Epoch: 0/200. Classification loss: 0.44625. Regression loss: 2.20231. Total loss: 2.64856\n"
     ]
    },
    {
     "data": {
      "application/vnd.jupyter.widget-view+json": {
       "model_id": "dcc26b57a10346d3be8c0aa79fbf4660",
       "version_major": 2,
       "version_minor": 0
      },
      "text/plain": [
       "  0%|          | 0/188 [00:00<?, ?it/s]"
      ]
     },
     "metadata": {},
     "output_type": "display_data"
    },
    {
     "name": "stdout",
     "output_type": "stream",
     "text": [
      "checkpoint...\n",
      "checkpoint...\n",
      "Val. Epoch: 1/200. Classification loss: 0.44729. Regression loss: 2.17838. Total loss: 2.62567\n"
     ]
    },
    {
     "data": {
      "application/vnd.jupyter.widget-view+json": {
       "model_id": "1cdb2b0a0d1d40378094723f9bfeefc0",
       "version_major": 2,
       "version_minor": 0
      },
      "text/plain": [
       "  0%|          | 0/188 [00:00<?, ?it/s]"
      ]
     },
     "metadata": {},
     "output_type": "display_data"
    },
    {
     "name": "stdout",
     "output_type": "stream",
     "text": [
      "checkpoint...\n",
      "checkpoint...\n",
      "Val. Epoch: 2/200. Classification loss: 0.48072. Regression loss: 2.19478. Total loss: 2.67551\n"
     ]
    },
    {
     "data": {
      "application/vnd.jupyter.widget-view+json": {
       "model_id": "bff175807dcf4030b9e1520e64de30c7",
       "version_major": 2,
       "version_minor": 0
      },
      "text/plain": [
       "  0%|          | 0/188 [00:00<?, ?it/s]"
      ]
     },
     "metadata": {},
     "output_type": "display_data"
    },
    {
     "name": "stdout",
     "output_type": "stream",
     "text": [
      "checkpoint...\n",
      "checkpoint...\n",
      "Val. Epoch: 3/200. Classification loss: 0.53657. Regression loss: 2.14554. Total loss: 2.68211\n"
     ]
    },
    {
     "data": {
      "application/vnd.jupyter.widget-view+json": {
       "model_id": "24009dda71c54ea8a219736edf73b770",
       "version_major": 2,
       "version_minor": 0
      },
      "text/plain": [
       "  0%|          | 0/188 [00:00<?, ?it/s]"
      ]
     },
     "metadata": {},
     "output_type": "display_data"
    },
    {
     "name": "stdout",
     "output_type": "stream",
     "text": [
      "checkpoint...\n",
      "checkpoint...\n",
      "Val. Epoch: 4/200. Classification loss: 0.53963. Regression loss: 2.13799. Total loss: 2.67763\n"
     ]
    },
    {
     "data": {
      "application/vnd.jupyter.widget-view+json": {
       "model_id": "39e539584aa7444c87d5ba5a98b0f265",
       "version_major": 2,
       "version_minor": 0
      },
      "text/plain": [
       "  0%|          | 0/188 [00:00<?, ?it/s]"
      ]
     },
     "metadata": {},
     "output_type": "display_data"
    },
    {
     "name": "stdout",
     "output_type": "stream",
     "text": [
      "checkpoint...\n",
      "checkpoint...\n",
      "Val. Epoch: 5/200. Classification loss: 0.52212. Regression loss: 2.14394. Total loss: 2.66606\n"
     ]
    },
    {
     "data": {
      "application/vnd.jupyter.widget-view+json": {
       "model_id": "0f698b84399e499589d0fc89d912c626",
       "version_major": 2,
       "version_minor": 0
      },
      "text/plain": [
       "  0%|          | 0/188 [00:00<?, ?it/s]"
      ]
     },
     "metadata": {},
     "output_type": "display_data"
    },
    {
     "name": "stdout",
     "output_type": "stream",
     "text": [
      "checkpoint...\n",
      "checkpoint...\n",
      "Val. Epoch: 6/200. Classification loss: 0.51121. Regression loss: 2.06328. Total loss: 2.57449\n"
     ]
    },
    {
     "data": {
      "application/vnd.jupyter.widget-view+json": {
       "model_id": "6d731ffa18f7431cbf8d8b3115b23370",
       "version_major": 2,
       "version_minor": 0
      },
      "text/plain": [
       "  0%|          | 0/188 [00:00<?, ?it/s]"
      ]
     },
     "metadata": {},
     "output_type": "display_data"
    },
    {
     "name": "stdout",
     "output_type": "stream",
     "text": [
      "checkpoint...\n",
      "checkpoint...\n",
      "Val. Epoch: 7/200. Classification loss: 0.48836. Regression loss: 1.96293. Total loss: 2.45129\n"
     ]
    },
    {
     "data": {
      "application/vnd.jupyter.widget-view+json": {
       "model_id": "286380449d244089b8a10af195bd19d2",
       "version_major": 2,
       "version_minor": 0
      },
      "text/plain": [
       "  0%|          | 0/188 [00:00<?, ?it/s]"
      ]
     },
     "metadata": {},
     "output_type": "display_data"
    },
    {
     "name": "stdout",
     "output_type": "stream",
     "text": [
      "checkpoint...\n",
      "Val. Epoch: 8/200. Classification loss: 0.49312. Regression loss: 2.01369. Total loss: 2.50682\n"
     ]
    },
    {
     "data": {
      "application/vnd.jupyter.widget-view+json": {
       "model_id": "19b2be8ad4564613a05860c6e443ac28",
       "version_major": 2,
       "version_minor": 0
      },
      "text/plain": [
       "  0%|          | 0/188 [00:00<?, ?it/s]"
      ]
     },
     "metadata": {},
     "output_type": "display_data"
    },
    {
     "name": "stdout",
     "output_type": "stream",
     "text": [
      "checkpoint...\n",
      "checkpoint...\n",
      "Val. Epoch: 9/200. Classification loss: 0.47754. Regression loss: 1.94767. Total loss: 2.42521\n"
     ]
    },
    {
     "data": {
      "application/vnd.jupyter.widget-view+json": {
       "model_id": "4f071b7818ae4ac4929266dc59981595",
       "version_major": 2,
       "version_minor": 0
      },
      "text/plain": [
       "  0%|          | 0/188 [00:00<?, ?it/s]"
      ]
     },
     "metadata": {},
     "output_type": "display_data"
    },
    {
     "name": "stdout",
     "output_type": "stream",
     "text": [
      "checkpoint...\n",
      "checkpoint...\n",
      "Val. Epoch: 10/200. Classification loss: 0.47566. Regression loss: 1.96467. Total loss: 2.44034\n"
     ]
    },
    {
     "data": {
      "application/vnd.jupyter.widget-view+json": {
       "model_id": "f49aa689f0604beeb0b0aa1e157e879f",
       "version_major": 2,
       "version_minor": 0
      },
      "text/plain": [
       "  0%|          | 0/188 [00:00<?, ?it/s]"
      ]
     },
     "metadata": {},
     "output_type": "display_data"
    },
    {
     "name": "stdout",
     "output_type": "stream",
     "text": [
      "checkpoint...\n",
      "checkpoint...\n",
      "Val. Epoch: 11/200. Classification loss: 0.47140. Regression loss: 1.95662. Total loss: 2.42802\n"
     ]
    },
    {
     "data": {
      "application/vnd.jupyter.widget-view+json": {
       "model_id": "261583d56add4b9387d6596f3078b312",
       "version_major": 2,
       "version_minor": 0
      },
      "text/plain": [
       "  0%|          | 0/188 [00:00<?, ?it/s]"
      ]
     },
     "metadata": {},
     "output_type": "display_data"
    },
    {
     "name": "stdout",
     "output_type": "stream",
     "text": [
      "checkpoint...\n",
      "checkpoint...\n",
      "Val. Epoch: 12/200. Classification loss: 0.46598. Regression loss: 1.94135. Total loss: 2.40733\n"
     ]
    },
    {
     "data": {
      "application/vnd.jupyter.widget-view+json": {
       "model_id": "46aab7df72334fcf81410f07a360ee3a",
       "version_major": 2,
       "version_minor": 0
      },
      "text/plain": [
       "  0%|          | 0/188 [00:00<?, ?it/s]"
      ]
     },
     "metadata": {},
     "output_type": "display_data"
    },
    {
     "name": "stdout",
     "output_type": "stream",
     "text": [
      "checkpoint...\n",
      "checkpoint...\n",
      "Val. Epoch: 13/200. Classification loss: 0.46203. Regression loss: 1.92544. Total loss: 2.38747\n"
     ]
    },
    {
     "data": {
      "application/vnd.jupyter.widget-view+json": {
       "model_id": "07b7c5cf47b54489b479a5b8b0c8237f",
       "version_major": 2,
       "version_minor": 0
      },
      "text/plain": [
       "  0%|          | 0/188 [00:00<?, ?it/s]"
      ]
     },
     "metadata": {},
     "output_type": "display_data"
    },
    {
     "name": "stdout",
     "output_type": "stream",
     "text": [
      "checkpoint...\n",
      "checkpoint...\n",
      "Val. Epoch: 14/200. Classification loss: 0.45007. Regression loss: 1.87175. Total loss: 2.32182\n"
     ]
    },
    {
     "data": {
      "application/vnd.jupyter.widget-view+json": {
       "model_id": "dc471af87fc04ff3a02f788b69664cd4",
       "version_major": 2,
       "version_minor": 0
      },
      "text/plain": [
       "  0%|          | 0/188 [00:00<?, ?it/s]"
      ]
     },
     "metadata": {},
     "output_type": "display_data"
    },
    {
     "name": "stdout",
     "output_type": "stream",
     "text": [
      "checkpoint...\n",
      "checkpoint...\n",
      "Val. Epoch: 15/200. Classification loss: 0.44624. Regression loss: 1.86223. Total loss: 2.30847\n"
     ]
    },
    {
     "data": {
      "application/vnd.jupyter.widget-view+json": {
       "model_id": "6fbe228166f2449ab9bf4f72a42025ce",
       "version_major": 2,
       "version_minor": 0
      },
      "text/plain": [
       "  0%|          | 0/188 [00:00<?, ?it/s]"
      ]
     },
     "metadata": {},
     "output_type": "display_data"
    },
    {
     "name": "stdout",
     "output_type": "stream",
     "text": [
      "checkpoint...\n",
      "Val. Epoch: 16/200. Classification loss: 0.44692. Regression loss: 1.87554. Total loss: 2.32245\n"
     ]
    },
    {
     "data": {
      "application/vnd.jupyter.widget-view+json": {
       "model_id": "671c70af3c244f55afaad6280ebfd6d2",
       "version_major": 2,
       "version_minor": 0
      },
      "text/plain": [
       "  0%|          | 0/188 [00:00<?, ?it/s]"
      ]
     },
     "metadata": {},
     "output_type": "display_data"
    },
    {
     "name": "stdout",
     "output_type": "stream",
     "text": [
      "checkpoint...\n",
      "checkpoint...\n",
      "Val. Epoch: 17/200. Classification loss: 0.45518. Regression loss: 1.93263. Total loss: 2.38781\n"
     ]
    },
    {
     "data": {
      "application/vnd.jupyter.widget-view+json": {
       "model_id": "d3ef649866794c87a2e180e28adfcd19",
       "version_major": 2,
       "version_minor": 0
      },
      "text/plain": [
       "  0%|          | 0/188 [00:00<?, ?it/s]"
      ]
     },
     "metadata": {},
     "output_type": "display_data"
    },
    {
     "name": "stdout",
     "output_type": "stream",
     "text": [
      "checkpoint...\n",
      "checkpoint...\n",
      "Val. Epoch: 18/200. Classification loss: 0.44358. Regression loss: 1.87033. Total loss: 2.31391\n"
     ]
    },
    {
     "data": {
      "application/vnd.jupyter.widget-view+json": {
       "model_id": "16b93ae535c444b8993d5ae59bf3d142",
       "version_major": 2,
       "version_minor": 0
      },
      "text/plain": [
       "  0%|          | 0/188 [00:00<?, ?it/s]"
      ]
     },
     "metadata": {},
     "output_type": "display_data"
    },
    {
     "name": "stdout",
     "output_type": "stream",
     "text": [
      "checkpoint...\n",
      "checkpoint...\n",
      "Val. Epoch: 19/200. Classification loss: 0.43161. Regression loss: 1.82258. Total loss: 2.25419\n"
     ]
    },
    {
     "data": {
      "application/vnd.jupyter.widget-view+json": {
       "model_id": "e5b2740cb01749e98b333cedcf09d420",
       "version_major": 2,
       "version_minor": 0
      },
      "text/plain": [
       "  0%|          | 0/188 [00:00<?, ?it/s]"
      ]
     },
     "metadata": {},
     "output_type": "display_data"
    },
    {
     "name": "stdout",
     "output_type": "stream",
     "text": [
      "checkpoint...\n",
      "checkpoint...\n",
      "Val. Epoch: 20/200. Classification loss: 0.43975. Regression loss: 1.86465. Total loss: 2.30441\n"
     ]
    },
    {
     "data": {
      "application/vnd.jupyter.widget-view+json": {
       "model_id": "bb03c1a2a2a6489ba842a62ecc76b4fb",
       "version_major": 2,
       "version_minor": 0
      },
      "text/plain": [
       "  0%|          | 0/188 [00:00<?, ?it/s]"
      ]
     },
     "metadata": {},
     "output_type": "display_data"
    },
    {
     "name": "stdout",
     "output_type": "stream",
     "text": [
      "checkpoint...\n",
      "checkpoint...\n",
      "Val. Epoch: 21/200. Classification loss: 0.43637. Regression loss: 1.86470. Total loss: 2.30107\n"
     ]
    },
    {
     "data": {
      "application/vnd.jupyter.widget-view+json": {
       "model_id": "58637e0735ea4b489a4852bda4674284",
       "version_major": 2,
       "version_minor": 0
      },
      "text/plain": [
       "  0%|          | 0/188 [00:00<?, ?it/s]"
      ]
     },
     "metadata": {},
     "output_type": "display_data"
    },
    {
     "name": "stdout",
     "output_type": "stream",
     "text": [
      "checkpoint...\n",
      "checkpoint...\n",
      "Val. Epoch: 22/200. Classification loss: 0.42894. Regression loss: 1.83355. Total loss: 2.26250\n"
     ]
    },
    {
     "data": {
      "application/vnd.jupyter.widget-view+json": {
       "model_id": "972d6a2c5e6d4367b87195cd1f88723a",
       "version_major": 2,
       "version_minor": 0
      },
      "text/plain": [
       "  0%|          | 0/188 [00:00<?, ?it/s]"
      ]
     },
     "metadata": {},
     "output_type": "display_data"
    },
    {
     "name": "stdout",
     "output_type": "stream",
     "text": [
      "checkpoint...\n",
      "checkpoint...\n",
      "Val. Epoch: 23/200. Classification loss: 0.43223. Regression loss: 1.87227. Total loss: 2.30450\n"
     ]
    },
    {
     "data": {
      "application/vnd.jupyter.widget-view+json": {
       "model_id": "5d70c8f25e2145cca1ca3ad6e6f624f5",
       "version_major": 2,
       "version_minor": 0
      },
      "text/plain": [
       "  0%|          | 0/188 [00:00<?, ?it/s]"
      ]
     },
     "metadata": {},
     "output_type": "display_data"
    },
    {
     "name": "stdout",
     "output_type": "stream",
     "text": [
      "checkpoint...\n",
      "checkpoint...\n",
      "Val. Epoch: 24/200. Classification loss: 0.41274. Regression loss: 1.77515. Total loss: 2.18790\n"
     ]
    },
    {
     "data": {
      "application/vnd.jupyter.widget-view+json": {
       "model_id": "3b8e0c25771449e698956dafce8a6820",
       "version_major": 2,
       "version_minor": 0
      },
      "text/plain": [
       "  0%|          | 0/188 [00:00<?, ?it/s]"
      ]
     },
     "metadata": {},
     "output_type": "display_data"
    },
    {
     "name": "stdout",
     "output_type": "stream",
     "text": [
      "checkpoint...\n",
      "Val. Epoch: 25/200. Classification loss: 0.41573. Regression loss: 1.81211. Total loss: 2.22784\n"
     ]
    },
    {
     "data": {
      "application/vnd.jupyter.widget-view+json": {
       "model_id": "d7e00d2814f646669b6295d23b170b54",
       "version_major": 2,
       "version_minor": 0
      },
      "text/plain": [
       "  0%|          | 0/188 [00:00<?, ?it/s]"
      ]
     },
     "metadata": {},
     "output_type": "display_data"
    },
    {
     "name": "stdout",
     "output_type": "stream",
     "text": [
      "checkpoint...\n",
      "checkpoint...\n",
      "Val. Epoch: 26/200. Classification loss: 0.40694. Regression loss: 1.77454. Total loss: 2.18148\n"
     ]
    },
    {
     "data": {
      "application/vnd.jupyter.widget-view+json": {
       "model_id": "d9f54a80feed49c898809572e481232d",
       "version_major": 2,
       "version_minor": 0
      },
      "text/plain": [
       "  0%|          | 0/188 [00:00<?, ?it/s]"
      ]
     },
     "metadata": {},
     "output_type": "display_data"
    },
    {
     "name": "stdout",
     "output_type": "stream",
     "text": [
      "checkpoint...\n",
      "checkpoint...\n",
      "Val. Epoch: 27/200. Classification loss: 0.40271. Regression loss: 1.76413. Total loss: 2.16684\n"
     ]
    },
    {
     "data": {
      "application/vnd.jupyter.widget-view+json": {
       "model_id": "17f1d8bba57a4419a7d44b1924c5d0b2",
       "version_major": 2,
       "version_minor": 0
      },
      "text/plain": [
       "  0%|          | 0/188 [00:00<?, ?it/s]"
      ]
     },
     "metadata": {},
     "output_type": "display_data"
    },
    {
     "name": "stdout",
     "output_type": "stream",
     "text": [
      "checkpoint...\n",
      "checkpoint...\n",
      "Val. Epoch: 28/200. Classification loss: 0.40506. Regression loss: 1.79871. Total loss: 2.20377\n"
     ]
    },
    {
     "data": {
      "application/vnd.jupyter.widget-view+json": {
       "model_id": "147ac5fe089b4671aacf0b5ec51ca9bb",
       "version_major": 2,
       "version_minor": 0
      },
      "text/plain": [
       "  0%|          | 0/188 [00:00<?, ?it/s]"
      ]
     },
     "metadata": {},
     "output_type": "display_data"
    },
    {
     "name": "stdout",
     "output_type": "stream",
     "text": [
      "checkpoint...\n",
      "checkpoint...\n",
      "Val. Epoch: 29/200. Classification loss: 0.40083. Regression loss: 1.78856. Total loss: 2.18939\n"
     ]
    },
    {
     "data": {
      "application/vnd.jupyter.widget-view+json": {
       "model_id": "22ecf3361688499587471a24938e8bf7",
       "version_major": 2,
       "version_minor": 0
      },
      "text/plain": [
       "  0%|          | 0/188 [00:00<?, ?it/s]"
      ]
     },
     "metadata": {},
     "output_type": "display_data"
    },
    {
     "name": "stdout",
     "output_type": "stream",
     "text": [
      "checkpoint...\n",
      "checkpoint...\n",
      "Val. Epoch: 30/200. Classification loss: 0.39188. Regression loss: 1.75153. Total loss: 2.14341\n"
     ]
    },
    {
     "data": {
      "application/vnd.jupyter.widget-view+json": {
       "model_id": "f58737bab27f474ea0499cc6b88b3c1e",
       "version_major": 2,
       "version_minor": 0
      },
      "text/plain": [
       "  0%|          | 0/188 [00:00<?, ?it/s]"
      ]
     },
     "metadata": {},
     "output_type": "display_data"
    },
    {
     "name": "stdout",
     "output_type": "stream",
     "text": [
      "checkpoint...\n",
      "checkpoint...\n",
      "Val. Epoch: 31/200. Classification loss: 0.38570. Regression loss: 1.73004. Total loss: 2.11574\n"
     ]
    },
    {
     "data": {
      "application/vnd.jupyter.widget-view+json": {
       "model_id": "fec5435520e344bead02ce6408bd59da",
       "version_major": 2,
       "version_minor": 0
      },
      "text/plain": [
       "  0%|          | 0/188 [00:00<?, ?it/s]"
      ]
     },
     "metadata": {},
     "output_type": "display_data"
    },
    {
     "name": "stdout",
     "output_type": "stream",
     "text": [
      "checkpoint...\n",
      "checkpoint...\n",
      "Val. Epoch: 32/200. Classification loss: 0.38595. Regression loss: 1.74134. Total loss: 2.12728\n"
     ]
    },
    {
     "data": {
      "application/vnd.jupyter.widget-view+json": {
       "model_id": "059e67261f7d4f2fa57916d052e78e82",
       "version_major": 2,
       "version_minor": 0
      },
      "text/plain": [
       "  0%|          | 0/188 [00:00<?, ?it/s]"
      ]
     },
     "metadata": {},
     "output_type": "display_data"
    },
    {
     "name": "stdout",
     "output_type": "stream",
     "text": [
      "checkpoint...\n",
      "Val. Epoch: 33/200. Classification loss: 0.37767. Regression loss: 1.70684. Total loss: 2.08451\n"
     ]
    },
    {
     "data": {
      "application/vnd.jupyter.widget-view+json": {
       "model_id": "584ba87157b646e49291f407db4f2f2b",
       "version_major": 2,
       "version_minor": 0
      },
      "text/plain": [
       "  0%|          | 0/188 [00:00<?, ?it/s]"
      ]
     },
     "metadata": {},
     "output_type": "display_data"
    },
    {
     "name": "stdout",
     "output_type": "stream",
     "text": [
      "checkpoint...\n",
      "checkpoint...\n",
      "Val. Epoch: 34/200. Classification loss: 0.37690. Regression loss: 1.72687. Total loss: 2.10376\n"
     ]
    },
    {
     "data": {
      "application/vnd.jupyter.widget-view+json": {
       "model_id": "025c52018cd248c2b3a26b8b6eaecaa7",
       "version_major": 2,
       "version_minor": 0
      },
      "text/plain": [
       "  0%|          | 0/188 [00:00<?, ?it/s]"
      ]
     },
     "metadata": {},
     "output_type": "display_data"
    },
    {
     "name": "stdout",
     "output_type": "stream",
     "text": [
      "checkpoint...\n",
      "checkpoint...\n",
      "Val. Epoch: 35/200. Classification loss: 0.37022. Regression loss: 1.70184. Total loss: 2.07207\n"
     ]
    },
    {
     "data": {
      "application/vnd.jupyter.widget-view+json": {
       "model_id": "7c6a2ad50bfe42378803b5027f8bd85d",
       "version_major": 2,
       "version_minor": 0
      },
      "text/plain": [
       "  0%|          | 0/188 [00:00<?, ?it/s]"
      ]
     },
     "metadata": {},
     "output_type": "display_data"
    },
    {
     "name": "stdout",
     "output_type": "stream",
     "text": [
      "checkpoint...\n",
      "checkpoint...\n",
      "Val. Epoch: 36/200. Classification loss: 0.37114. Regression loss: 1.71875. Total loss: 2.08989\n"
     ]
    },
    {
     "data": {
      "application/vnd.jupyter.widget-view+json": {
       "model_id": "50e5e1d92b6f4ba6b6de2213a3ca290e",
       "version_major": 2,
       "version_minor": 0
      },
      "text/plain": [
       "  0%|          | 0/188 [00:00<?, ?it/s]"
      ]
     },
     "metadata": {},
     "output_type": "display_data"
    },
    {
     "name": "stdout",
     "output_type": "stream",
     "text": [
      "checkpoint...\n",
      "checkpoint...\n",
      "Val. Epoch: 37/200. Classification loss: 0.36499. Regression loss: 1.69215. Total loss: 2.05714\n"
     ]
    },
    {
     "data": {
      "application/vnd.jupyter.widget-view+json": {
       "model_id": "5263e0adf7a840ecb6213a404824189b",
       "version_major": 2,
       "version_minor": 0
      },
      "text/plain": [
       "  0%|          | 0/188 [00:00<?, ?it/s]"
      ]
     },
     "metadata": {},
     "output_type": "display_data"
    },
    {
     "name": "stdout",
     "output_type": "stream",
     "text": [
      "checkpoint...\n",
      "checkpoint...\n",
      "Val. Epoch: 38/200. Classification loss: 0.36932. Regression loss: 1.72868. Total loss: 2.09800\n"
     ]
    },
    {
     "data": {
      "application/vnd.jupyter.widget-view+json": {
       "model_id": "6408924e32534bf291ec134dd8ddf39b",
       "version_major": 2,
       "version_minor": 0
      },
      "text/plain": [
       "  0%|          | 0/188 [00:00<?, ?it/s]"
      ]
     },
     "metadata": {},
     "output_type": "display_data"
    },
    {
     "name": "stdout",
     "output_type": "stream",
     "text": [
      "checkpoint...\n",
      "checkpoint...\n",
      "Val. Epoch: 39/200. Classification loss: 0.36773. Regression loss: 1.74128. Total loss: 2.10901\n"
     ]
    },
    {
     "data": {
      "application/vnd.jupyter.widget-view+json": {
       "model_id": "0331fa8a74044ab4a1cb494cf57e43a3",
       "version_major": 2,
       "version_minor": 0
      },
      "text/plain": [
       "  0%|          | 0/188 [00:00<?, ?it/s]"
      ]
     },
     "metadata": {},
     "output_type": "display_data"
    },
    {
     "name": "stdout",
     "output_type": "stream",
     "text": [
      "checkpoint...\n",
      "checkpoint...\n",
      "Val. Epoch: 40/200. Classification loss: 0.35758. Regression loss: 1.68554. Total loss: 2.04312\n"
     ]
    },
    {
     "data": {
      "application/vnd.jupyter.widget-view+json": {
       "model_id": "88e025cf4c3e4ae7be2d6a4d8460f88f",
       "version_major": 2,
       "version_minor": 0
      },
      "text/plain": [
       "  0%|          | 0/188 [00:00<?, ?it/s]"
      ]
     },
     "metadata": {},
     "output_type": "display_data"
    },
    {
     "name": "stdout",
     "output_type": "stream",
     "text": [
      "checkpoint...\n",
      "Val. Epoch: 41/200. Classification loss: 0.36644. Regression loss: 1.73781. Total loss: 2.10426\n"
     ]
    },
    {
     "data": {
      "application/vnd.jupyter.widget-view+json": {
       "model_id": "ca656c03d63f45b3a591655095d0389d",
       "version_major": 2,
       "version_minor": 0
      },
      "text/plain": [
       "  0%|          | 0/188 [00:00<?, ?it/s]"
      ]
     },
     "metadata": {},
     "output_type": "display_data"
    },
    {
     "name": "stdout",
     "output_type": "stream",
     "text": [
      "checkpoint...\n",
      "checkpoint...\n",
      "Val. Epoch: 42/200. Classification loss: 0.35499. Regression loss: 1.68829. Total loss: 2.04327\n"
     ]
    },
    {
     "data": {
      "application/vnd.jupyter.widget-view+json": {
       "model_id": "31501c1c661d436786d4eead7e3b1e0f",
       "version_major": 2,
       "version_minor": 0
      },
      "text/plain": [
       "  0%|          | 0/188 [00:00<?, ?it/s]"
      ]
     },
     "metadata": {},
     "output_type": "display_data"
    },
    {
     "name": "stdout",
     "output_type": "stream",
     "text": [
      "checkpoint...\n",
      "checkpoint...\n",
      "Val. Epoch: 43/200. Classification loss: 0.36112. Regression loss: 1.71867. Total loss: 2.07978\n"
     ]
    },
    {
     "data": {
      "application/vnd.jupyter.widget-view+json": {
       "model_id": "cf9af31d0b9646a8ac4d88b4aecf2966",
       "version_major": 2,
       "version_minor": 0
      },
      "text/plain": [
       "  0%|          | 0/188 [00:00<?, ?it/s]"
      ]
     },
     "metadata": {},
     "output_type": "display_data"
    },
    {
     "name": "stdout",
     "output_type": "stream",
     "text": [
      "checkpoint...\n",
      "checkpoint...\n",
      "Val. Epoch: 44/200. Classification loss: 0.35715. Regression loss: 1.71963. Total loss: 2.07677\n"
     ]
    },
    {
     "data": {
      "application/vnd.jupyter.widget-view+json": {
       "model_id": "e95c00964c3740de8557672ba3a75aa5",
       "version_major": 2,
       "version_minor": 0
      },
      "text/plain": [
       "  0%|          | 0/188 [00:00<?, ?it/s]"
      ]
     },
     "metadata": {},
     "output_type": "display_data"
    },
    {
     "name": "stdout",
     "output_type": "stream",
     "text": [
      "checkpoint...\n",
      "checkpoint...\n",
      "Val. Epoch: 45/200. Classification loss: 0.35064. Regression loss: 1.67936. Total loss: 2.03000\n"
     ]
    },
    {
     "data": {
      "application/vnd.jupyter.widget-view+json": {
       "model_id": "e791a143549341f79fa7d044258ba1f3",
       "version_major": 2,
       "version_minor": 0
      },
      "text/plain": [
       "  0%|          | 0/188 [00:00<?, ?it/s]"
      ]
     },
     "metadata": {},
     "output_type": "display_data"
    },
    {
     "name": "stdout",
     "output_type": "stream",
     "text": [
      "checkpoint...\n",
      "checkpoint...\n",
      "Val. Epoch: 46/200. Classification loss: 0.35647. Regression loss: 1.73062. Total loss: 2.08708\n"
     ]
    },
    {
     "data": {
      "application/vnd.jupyter.widget-view+json": {
       "model_id": "1897ea381aca4bd0b9c5eece6cb1179b",
       "version_major": 2,
       "version_minor": 0
      },
      "text/plain": [
       "  0%|          | 0/188 [00:00<?, ?it/s]"
      ]
     },
     "metadata": {},
     "output_type": "display_data"
    },
    {
     "name": "stdout",
     "output_type": "stream",
     "text": [
      "checkpoint...\n",
      "checkpoint...\n",
      "Val. Epoch: 47/200. Classification loss: 0.35734. Regression loss: 1.71940. Total loss: 2.07674\n"
     ]
    },
    {
     "data": {
      "application/vnd.jupyter.widget-view+json": {
       "model_id": "b5b41b951fef416484db599d697d30ca",
       "version_major": 2,
       "version_minor": 0
      },
      "text/plain": [
       "  0%|          | 0/188 [00:00<?, ?it/s]"
      ]
     },
     "metadata": {},
     "output_type": "display_data"
    },
    {
     "name": "stdout",
     "output_type": "stream",
     "text": [
      "checkpoint...\n",
      "checkpoint...\n",
      "Val. Epoch: 48/200. Classification loss: 0.34398. Regression loss: 1.67196. Total loss: 2.01593\n"
     ]
    },
    {
     "data": {
      "application/vnd.jupyter.widget-view+json": {
       "model_id": "dbb6f7b4596049b9857298165521fa60",
       "version_major": 2,
       "version_minor": 0
      },
      "text/plain": [
       "  0%|          | 0/188 [00:00<?, ?it/s]"
      ]
     },
     "metadata": {},
     "output_type": "display_data"
    },
    {
     "name": "stdout",
     "output_type": "stream",
     "text": [
      "checkpoint...\n",
      "checkpoint...\n",
      "Val. Epoch: 49/200. Classification loss: 0.34535. Regression loss: 1.66930. Total loss: 2.01466\n"
     ]
    },
    {
     "data": {
      "application/vnd.jupyter.widget-view+json": {
       "model_id": "41eff305c5444dc3b5d3786c9245570b",
       "version_major": 2,
       "version_minor": 0
      },
      "text/plain": [
       "  0%|          | 0/188 [00:00<?, ?it/s]"
      ]
     },
     "metadata": {},
     "output_type": "display_data"
    },
    {
     "name": "stdout",
     "output_type": "stream",
     "text": [
      "checkpoint...\n",
      "Val. Epoch: 50/200. Classification loss: 0.34589. Regression loss: 1.68907. Total loss: 2.03496\n"
     ]
    },
    {
     "data": {
      "application/vnd.jupyter.widget-view+json": {
       "model_id": "205c6326b1964355b581fe5cc9ab071c",
       "version_major": 2,
       "version_minor": 0
      },
      "text/plain": [
       "  0%|          | 0/188 [00:00<?, ?it/s]"
      ]
     },
     "metadata": {},
     "output_type": "display_data"
    },
    {
     "name": "stdout",
     "output_type": "stream",
     "text": [
      "checkpoint...\n",
      "checkpoint...\n",
      "Val. Epoch: 51/200. Classification loss: 0.33465. Regression loss: 1.63443. Total loss: 1.96908\n"
     ]
    },
    {
     "data": {
      "application/vnd.jupyter.widget-view+json": {
       "model_id": "85d038c9a4ec4c0792ede8add12d1bae",
       "version_major": 2,
       "version_minor": 0
      },
      "text/plain": [
       "  0%|          | 0/188 [00:00<?, ?it/s]"
      ]
     },
     "metadata": {},
     "output_type": "display_data"
    },
    {
     "name": "stdout",
     "output_type": "stream",
     "text": [
      "checkpoint...\n",
      "checkpoint...\n",
      "Val. Epoch: 52/200. Classification loss: 0.34883. Regression loss: 1.74645. Total loss: 2.09528\n"
     ]
    },
    {
     "data": {
      "application/vnd.jupyter.widget-view+json": {
       "model_id": "ddad4db833514fb399abe71deb6e7fde",
       "version_major": 2,
       "version_minor": 0
      },
      "text/plain": [
       "  0%|          | 0/188 [00:00<?, ?it/s]"
      ]
     },
     "metadata": {},
     "output_type": "display_data"
    },
    {
     "name": "stdout",
     "output_type": "stream",
     "text": [
      "checkpoint...\n",
      "checkpoint...\n",
      "Val. Epoch: 53/200. Classification loss: 0.33831. Regression loss: 1.66285. Total loss: 2.00116\n"
     ]
    },
    {
     "data": {
      "application/vnd.jupyter.widget-view+json": {
       "model_id": "9330009bb27a471680dd69d81998e77b",
       "version_major": 2,
       "version_minor": 0
      },
      "text/plain": [
       "  0%|          | 0/188 [00:00<?, ?it/s]"
      ]
     },
     "metadata": {},
     "output_type": "display_data"
    },
    {
     "name": "stdout",
     "output_type": "stream",
     "text": [
      "checkpoint...\n",
      "checkpoint...\n",
      "Val. Epoch: 54/200. Classification loss: 0.33522. Regression loss: 1.62903. Total loss: 1.96425\n"
     ]
    },
    {
     "data": {
      "application/vnd.jupyter.widget-view+json": {
       "model_id": "167a5b61bfbf456b87a85fdee9ce6094",
       "version_major": 2,
       "version_minor": 0
      },
      "text/plain": [
       "  0%|          | 0/188 [00:00<?, ?it/s]"
      ]
     },
     "metadata": {},
     "output_type": "display_data"
    },
    {
     "name": "stdout",
     "output_type": "stream",
     "text": [
      "checkpoint...\n",
      "checkpoint...\n",
      "Val. Epoch: 55/200. Classification loss: 0.33665. Regression loss: 1.64935. Total loss: 1.98600\n"
     ]
    },
    {
     "data": {
      "application/vnd.jupyter.widget-view+json": {
       "model_id": "07eec7783b554365bd15da45f6b6cfa1",
       "version_major": 2,
       "version_minor": 0
      },
      "text/plain": [
       "  0%|          | 0/188 [00:00<?, ?it/s]"
      ]
     },
     "metadata": {},
     "output_type": "display_data"
    },
    {
     "name": "stdout",
     "output_type": "stream",
     "text": [
      "checkpoint...\n",
      "checkpoint...\n",
      "Val. Epoch: 56/200. Classification loss: 0.33607. Regression loss: 1.66645. Total loss: 2.00252\n"
     ]
    },
    {
     "data": {
      "application/vnd.jupyter.widget-view+json": {
       "model_id": "b8871d45595d4e27bed9b58c3f7049b9",
       "version_major": 2,
       "version_minor": 0
      },
      "text/plain": [
       "  0%|          | 0/188 [00:00<?, ?it/s]"
      ]
     },
     "metadata": {},
     "output_type": "display_data"
    },
    {
     "name": "stdout",
     "output_type": "stream",
     "text": [
      "checkpoint...\n",
      "checkpoint...\n",
      "Val. Epoch: 57/200. Classification loss: 0.33554. Regression loss: 1.67998. Total loss: 2.01552\n"
     ]
    },
    {
     "data": {
      "application/vnd.jupyter.widget-view+json": {
       "model_id": "4dc565662d8c46db91a6d183243d4028",
       "version_major": 2,
       "version_minor": 0
      },
      "text/plain": [
       "  0%|          | 0/188 [00:00<?, ?it/s]"
      ]
     },
     "metadata": {},
     "output_type": "display_data"
    },
    {
     "name": "stdout",
     "output_type": "stream",
     "text": [
      "checkpoint...\n",
      "Val. Epoch: 58/200. Classification loss: 0.35108. Regression loss: 1.70906. Total loss: 2.06014\n"
     ]
    },
    {
     "data": {
      "application/vnd.jupyter.widget-view+json": {
       "model_id": "e1a0ea4427a14e489263d7ae37e886f9",
       "version_major": 2,
       "version_minor": 0
      },
      "text/plain": [
       "  0%|          | 0/188 [00:00<?, ?it/s]"
      ]
     },
     "metadata": {},
     "output_type": "display_data"
    },
    {
     "name": "stdout",
     "output_type": "stream",
     "text": [
      "checkpoint...\n",
      "checkpoint...\n",
      "Val. Epoch: 59/200. Classification loss: 0.32910. Regression loss: 1.63262. Total loss: 1.96172\n"
     ]
    },
    {
     "data": {
      "application/vnd.jupyter.widget-view+json": {
       "model_id": "6c8743e2037f45aaa5aa171f563e55f9",
       "version_major": 2,
       "version_minor": 0
      },
      "text/plain": [
       "  0%|          | 0/188 [00:00<?, ?it/s]"
      ]
     },
     "metadata": {},
     "output_type": "display_data"
    },
    {
     "name": "stdout",
     "output_type": "stream",
     "text": [
      "checkpoint...\n",
      "checkpoint...\n",
      "Val. Epoch: 60/200. Classification loss: 0.33789. Regression loss: 1.67924. Total loss: 2.01713\n"
     ]
    },
    {
     "data": {
      "application/vnd.jupyter.widget-view+json": {
       "model_id": "cb74a2912e2f4f7582cd6714d41db156",
       "version_major": 2,
       "version_minor": 0
      },
      "text/plain": [
       "  0%|          | 0/188 [00:00<?, ?it/s]"
      ]
     },
     "metadata": {},
     "output_type": "display_data"
    },
    {
     "name": "stdout",
     "output_type": "stream",
     "text": [
      "checkpoint...\n",
      "checkpoint...\n",
      "Val. Epoch: 61/200. Classification loss: 0.34018. Regression loss: 1.69090. Total loss: 2.03107\n"
     ]
    },
    {
     "data": {
      "application/vnd.jupyter.widget-view+json": {
       "model_id": "db20e84be6eb4881b5c1ddfbcd791be6",
       "version_major": 2,
       "version_minor": 0
      },
      "text/plain": [
       "  0%|          | 0/188 [00:00<?, ?it/s]"
      ]
     },
     "metadata": {},
     "output_type": "display_data"
    },
    {
     "name": "stdout",
     "output_type": "stream",
     "text": [
      "checkpoint...\n",
      "checkpoint...\n",
      "Val. Epoch: 62/200. Classification loss: 0.33586. Regression loss: 1.65886. Total loss: 1.99472\n"
     ]
    },
    {
     "data": {
      "application/vnd.jupyter.widget-view+json": {
       "model_id": "1319f63d0e214061aaf93a367ce13225",
       "version_major": 2,
       "version_minor": 0
      },
      "text/plain": [
       "  0%|          | 0/188 [00:00<?, ?it/s]"
      ]
     },
     "metadata": {},
     "output_type": "display_data"
    },
    {
     "name": "stdout",
     "output_type": "stream",
     "text": [
      "checkpoint...\n",
      "checkpoint...\n",
      "Val. Epoch: 63/200. Classification loss: 0.33699. Regression loss: 1.66169. Total loss: 1.99868\n"
     ]
    },
    {
     "data": {
      "application/vnd.jupyter.widget-view+json": {
       "model_id": "55dbcff690a44c93b629c5c67cd6dc21",
       "version_major": 2,
       "version_minor": 0
      },
      "text/plain": [
       "  0%|          | 0/188 [00:00<?, ?it/s]"
      ]
     },
     "metadata": {},
     "output_type": "display_data"
    },
    {
     "name": "stdout",
     "output_type": "stream",
     "text": [
      "checkpoint...\n",
      "checkpoint...\n",
      "Val. Epoch: 64/200. Classification loss: 0.34236. Regression loss: 1.66910. Total loss: 2.01146\n"
     ]
    },
    {
     "data": {
      "application/vnd.jupyter.widget-view+json": {
       "model_id": "3d31d0816a9f4cdd900fc559661496f3",
       "version_major": 2,
       "version_minor": 0
      },
      "text/plain": [
       "  0%|          | 0/188 [00:00<?, ?it/s]"
      ]
     },
     "metadata": {},
     "output_type": "display_data"
    },
    {
     "name": "stdout",
     "output_type": "stream",
     "text": [
      "checkpoint...\n",
      "checkpoint...\n",
      "Val. Epoch: 65/200. Classification loss: 0.35901. Regression loss: 1.68805. Total loss: 2.04706\n"
     ]
    },
    {
     "data": {
      "application/vnd.jupyter.widget-view+json": {
       "model_id": "1102002ea33d492eaa08fa55aa4aee6f",
       "version_major": 2,
       "version_minor": 0
      },
      "text/plain": [
       "  0%|          | 0/188 [00:00<?, ?it/s]"
      ]
     },
     "metadata": {},
     "output_type": "display_data"
    },
    {
     "name": "stdout",
     "output_type": "stream",
     "text": [
      "checkpoint...\n",
      "Val. Epoch: 66/200. Classification loss: 0.33778. Regression loss: 1.65079. Total loss: 1.98857\n"
     ]
    },
    {
     "data": {
      "application/vnd.jupyter.widget-view+json": {
       "model_id": "1d6e6a83dc194a088dc9d70b89fea816",
       "version_major": 2,
       "version_minor": 0
      },
      "text/plain": [
       "  0%|          | 0/188 [00:00<?, ?it/s]"
      ]
     },
     "metadata": {},
     "output_type": "display_data"
    },
    {
     "name": "stdout",
     "output_type": "stream",
     "text": [
      "checkpoint...\n",
      "checkpoint...\n",
      "Val. Epoch: 67/200. Classification loss: 0.33104. Regression loss: 1.62379. Total loss: 1.95483\n"
     ]
    },
    {
     "data": {
      "application/vnd.jupyter.widget-view+json": {
       "model_id": "2aa7e3fcca1c4a3887e2b09d1db5c3b9",
       "version_major": 2,
       "version_minor": 0
      },
      "text/plain": [
       "  0%|          | 0/188 [00:00<?, ?it/s]"
      ]
     },
     "metadata": {},
     "output_type": "display_data"
    },
    {
     "name": "stdout",
     "output_type": "stream",
     "text": [
      "checkpoint...\n",
      "checkpoint...\n",
      "Val. Epoch: 68/200. Classification loss: 0.34638. Regression loss: 1.65556. Total loss: 2.00194\n"
     ]
    },
    {
     "data": {
      "application/vnd.jupyter.widget-view+json": {
       "model_id": "17b9757492dd4952b687aeecfb941161",
       "version_major": 2,
       "version_minor": 0
      },
      "text/plain": [
       "  0%|          | 0/188 [00:00<?, ?it/s]"
      ]
     },
     "metadata": {},
     "output_type": "display_data"
    },
    {
     "name": "stdout",
     "output_type": "stream",
     "text": [
      "checkpoint...\n",
      "checkpoint...\n",
      "Val. Epoch: 69/200. Classification loss: 0.33683. Regression loss: 1.65726. Total loss: 1.99409\n"
     ]
    },
    {
     "data": {
      "application/vnd.jupyter.widget-view+json": {
       "model_id": "860d2323e493442e954f1640b75488eb",
       "version_major": 2,
       "version_minor": 0
      },
      "text/plain": [
       "  0%|          | 0/188 [00:00<?, ?it/s]"
      ]
     },
     "metadata": {},
     "output_type": "display_data"
    },
    {
     "name": "stdout",
     "output_type": "stream",
     "text": [
      "checkpoint...\n",
      "checkpoint...\n",
      "Val. Epoch: 70/200. Classification loss: 0.33645. Regression loss: 1.66173. Total loss: 1.99818\n"
     ]
    },
    {
     "data": {
      "application/vnd.jupyter.widget-view+json": {
       "model_id": "de147a37520b4f3dbd48170ae7ca1edd",
       "version_major": 2,
       "version_minor": 0
      },
      "text/plain": [
       "  0%|          | 0/188 [00:00<?, ?it/s]"
      ]
     },
     "metadata": {},
     "output_type": "display_data"
    },
    {
     "name": "stdout",
     "output_type": "stream",
     "text": [
      "checkpoint...\n",
      "checkpoint...\n",
      "Val. Epoch: 71/200. Classification loss: 0.33761. Regression loss: 1.67702. Total loss: 2.01463\n"
     ]
    },
    {
     "data": {
      "application/vnd.jupyter.widget-view+json": {
       "model_id": "c70b6af6e1c64aaa9575ce058de1d8eb",
       "version_major": 2,
       "version_minor": 0
      },
      "text/plain": [
       "  0%|          | 0/188 [00:00<?, ?it/s]"
      ]
     },
     "metadata": {},
     "output_type": "display_data"
    },
    {
     "name": "stdout",
     "output_type": "stream",
     "text": [
      "checkpoint...\n",
      "checkpoint...\n",
      "Val. Epoch: 72/200. Classification loss: 0.34300. Regression loss: 1.68547. Total loss: 2.02847\n"
     ]
    },
    {
     "data": {
      "application/vnd.jupyter.widget-view+json": {
       "model_id": "35049c93b49a40fe9e8bed46ecfc8c52",
       "version_major": 2,
       "version_minor": 0
      },
      "text/plain": [
       "  0%|          | 0/188 [00:00<?, ?it/s]"
      ]
     },
     "metadata": {},
     "output_type": "display_data"
    },
    {
     "name": "stdout",
     "output_type": "stream",
     "text": [
      "checkpoint...\n",
      "checkpoint...\n",
      "Val. Epoch: 73/200. Classification loss: 0.33868. Regression loss: 1.64458. Total loss: 1.98327\n"
     ]
    },
    {
     "data": {
      "application/vnd.jupyter.widget-view+json": {
       "model_id": "26552f5db1a647729711854b4c5a2459",
       "version_major": 2,
       "version_minor": 0
      },
      "text/plain": [
       "  0%|          | 0/188 [00:00<?, ?it/s]"
      ]
     },
     "metadata": {},
     "output_type": "display_data"
    },
    {
     "name": "stdout",
     "output_type": "stream",
     "text": [
      "checkpoint...\n",
      "checkpoint...\n",
      "Val. Epoch: 74/200. Classification loss: 0.34128. Regression loss: 1.61996. Total loss: 1.96123\n"
     ]
    },
    {
     "data": {
      "application/vnd.jupyter.widget-view+json": {
       "model_id": "28e2581d96aa49dba675bf57bcc31824",
       "version_major": 2,
       "version_minor": 0
      },
      "text/plain": [
       "  0%|          | 0/188 [00:00<?, ?it/s]"
      ]
     },
     "metadata": {},
     "output_type": "display_data"
    },
    {
     "name": "stdout",
     "output_type": "stream",
     "text": [
      "checkpoint...\n",
      "Val. Epoch: 75/200. Classification loss: 0.34312. Regression loss: 1.69324. Total loss: 2.03636\n"
     ]
    },
    {
     "data": {
      "application/vnd.jupyter.widget-view+json": {
       "model_id": "137bd727904949fabd7745f68e5f026a",
       "version_major": 2,
       "version_minor": 0
      },
      "text/plain": [
       "  0%|          | 0/188 [00:00<?, ?it/s]"
      ]
     },
     "metadata": {},
     "output_type": "display_data"
    },
    {
     "name": "stdout",
     "output_type": "stream",
     "text": [
      "checkpoint...\n",
      "checkpoint...\n",
      "Val. Epoch: 76/200. Classification loss: 0.35705. Regression loss: 1.70564. Total loss: 2.06270\n"
     ]
    },
    {
     "data": {
      "application/vnd.jupyter.widget-view+json": {
       "model_id": "1ef0831fc8eb41e0a28015b07c728b96",
       "version_major": 2,
       "version_minor": 0
      },
      "text/plain": [
       "  0%|          | 0/188 [00:00<?, ?it/s]"
      ]
     },
     "metadata": {},
     "output_type": "display_data"
    },
    {
     "name": "stdout",
     "output_type": "stream",
     "text": [
      "checkpoint...\n",
      "checkpoint...\n",
      "Val. Epoch: 77/200. Classification loss: 0.35714. Regression loss: 1.67066. Total loss: 2.02780\n"
     ]
    },
    {
     "data": {
      "application/vnd.jupyter.widget-view+json": {
       "model_id": "3efd99dad1ac433aa2ce7ade5d781314",
       "version_major": 2,
       "version_minor": 0
      },
      "text/plain": [
       "  0%|          | 0/188 [00:00<?, ?it/s]"
      ]
     },
     "metadata": {},
     "output_type": "display_data"
    },
    {
     "name": "stdout",
     "output_type": "stream",
     "text": [
      "checkpoint...\n",
      "checkpoint...\n",
      "Val. Epoch: 78/200. Classification loss: 0.35532. Regression loss: 1.65988. Total loss: 2.01520\n"
     ]
    },
    {
     "data": {
      "application/vnd.jupyter.widget-view+json": {
       "model_id": "3f8d71a0e13441b289465fef538932fb",
       "version_major": 2,
       "version_minor": 0
      },
      "text/plain": [
       "  0%|          | 0/188 [00:00<?, ?it/s]"
      ]
     },
     "metadata": {},
     "output_type": "display_data"
    },
    {
     "name": "stdout",
     "output_type": "stream",
     "text": [
      "checkpoint...\n",
      "checkpoint...\n",
      "Val. Epoch: 79/200. Classification loss: 0.35077. Regression loss: 1.65178. Total loss: 2.00255\n"
     ]
    },
    {
     "data": {
      "application/vnd.jupyter.widget-view+json": {
       "model_id": "50365db61dd1489bb63174f479b1322f",
       "version_major": 2,
       "version_minor": 0
      },
      "text/plain": [
       "  0%|          | 0/188 [00:00<?, ?it/s]"
      ]
     },
     "metadata": {},
     "output_type": "display_data"
    },
    {
     "name": "stdout",
     "output_type": "stream",
     "text": [
      "checkpoint...\n",
      "checkpoint...\n",
      "Val. Epoch: 80/200. Classification loss: 0.34377. Regression loss: 1.63465. Total loss: 1.97842\n"
     ]
    },
    {
     "data": {
      "application/vnd.jupyter.widget-view+json": {
       "model_id": "dee02d11f1f749bab65df1d3b880c7d8",
       "version_major": 2,
       "version_minor": 0
      },
      "text/plain": [
       "  0%|          | 0/188 [00:00<?, ?it/s]"
      ]
     },
     "metadata": {},
     "output_type": "display_data"
    },
    {
     "name": "stdout",
     "output_type": "stream",
     "text": [
      "checkpoint...\n",
      "checkpoint...\n",
      "Val. Epoch: 81/200. Classification loss: 0.34648. Regression loss: 1.68507. Total loss: 2.03154\n"
     ]
    },
    {
     "data": {
      "application/vnd.jupyter.widget-view+json": {
       "model_id": "7eb809d0e2624e62896fa5eae92facc6",
       "version_major": 2,
       "version_minor": 0
      },
      "text/plain": [
       "  0%|          | 0/188 [00:00<?, ?it/s]"
      ]
     },
     "metadata": {},
     "output_type": "display_data"
    },
    {
     "name": "stdout",
     "output_type": "stream",
     "text": [
      "checkpoint...\n",
      "checkpoint...\n",
      "Val. Epoch: 82/200. Classification loss: 0.35208. Regression loss: 1.65306. Total loss: 2.00514\n"
     ]
    },
    {
     "data": {
      "application/vnd.jupyter.widget-view+json": {
       "model_id": "41e7d292f0824fa8850493ffe9b5d2aa",
       "version_major": 2,
       "version_minor": 0
      },
      "text/plain": [
       "  0%|          | 0/188 [00:00<?, ?it/s]"
      ]
     },
     "metadata": {},
     "output_type": "display_data"
    },
    {
     "name": "stdout",
     "output_type": "stream",
     "text": [
      "checkpoint...\n",
      "Val. Epoch: 83/200. Classification loss: 0.35266. Regression loss: 1.65481. Total loss: 2.00747\n"
     ]
    },
    {
     "data": {
      "application/vnd.jupyter.widget-view+json": {
       "model_id": "ed02e6175f5d474897603c2bec716f59",
       "version_major": 2,
       "version_minor": 0
      },
      "text/plain": [
       "  0%|          | 0/188 [00:00<?, ?it/s]"
      ]
     },
     "metadata": {},
     "output_type": "display_data"
    },
    {
     "name": "stdout",
     "output_type": "stream",
     "text": [
      "checkpoint...\n",
      "checkpoint...\n",
      "Val. Epoch: 84/200. Classification loss: 0.35680. Regression loss: 1.66315. Total loss: 2.01995\n"
     ]
    },
    {
     "data": {
      "application/vnd.jupyter.widget-view+json": {
       "model_id": "f2c6dc42340040b0abf3b6d7c88d9a32",
       "version_major": 2,
       "version_minor": 0
      },
      "text/plain": [
       "  0%|          | 0/188 [00:00<?, ?it/s]"
      ]
     },
     "metadata": {},
     "output_type": "display_data"
    },
    {
     "name": "stdout",
     "output_type": "stream",
     "text": [
      "checkpoint...\n",
      "checkpoint...\n",
      "Val. Epoch: 85/200. Classification loss: 0.36384. Regression loss: 1.73185. Total loss: 2.09569\n"
     ]
    },
    {
     "data": {
      "application/vnd.jupyter.widget-view+json": {
       "model_id": "ab9d7326c6b941419668492f95b19999",
       "version_major": 2,
       "version_minor": 0
      },
      "text/plain": [
       "  0%|          | 0/188 [00:00<?, ?it/s]"
      ]
     },
     "metadata": {},
     "output_type": "display_data"
    },
    {
     "name": "stdout",
     "output_type": "stream",
     "text": [
      "checkpoint...\n",
      "checkpoint...\n",
      "Val. Epoch: 86/200. Classification loss: 0.35834. Regression loss: 1.65766. Total loss: 2.01601\n"
     ]
    },
    {
     "data": {
      "application/vnd.jupyter.widget-view+json": {
       "model_id": "9d99d7d1b0814606b14f328c05396113",
       "version_major": 2,
       "version_minor": 0
      },
      "text/plain": [
       "  0%|          | 0/188 [00:00<?, ?it/s]"
      ]
     },
     "metadata": {},
     "output_type": "display_data"
    },
    {
     "name": "stdout",
     "output_type": "stream",
     "text": [
      "checkpoint...\n",
      "checkpoint...\n",
      "Val. Epoch: 87/200. Classification loss: 0.35454. Regression loss: 1.68097. Total loss: 2.03551\n"
     ]
    },
    {
     "data": {
      "application/vnd.jupyter.widget-view+json": {
       "model_id": "4a100a754f474396a1365e69c92b4798",
       "version_major": 2,
       "version_minor": 0
      },
      "text/plain": [
       "  0%|          | 0/188 [00:00<?, ?it/s]"
      ]
     },
     "metadata": {},
     "output_type": "display_data"
    },
    {
     "name": "stdout",
     "output_type": "stream",
     "text": [
      "checkpoint...\n",
      "checkpoint...\n",
      "Val. Epoch: 88/200. Classification loss: 0.35262. Regression loss: 1.62126. Total loss: 1.97387\n"
     ]
    },
    {
     "data": {
      "application/vnd.jupyter.widget-view+json": {
       "model_id": "102e49c24cec4c428fed691f9b460ff6",
       "version_major": 2,
       "version_minor": 0
      },
      "text/plain": [
       "  0%|          | 0/188 [00:00<?, ?it/s]"
      ]
     },
     "metadata": {},
     "output_type": "display_data"
    },
    {
     "name": "stdout",
     "output_type": "stream",
     "text": [
      "checkpoint...\n",
      "checkpoint...\n",
      "Val. Epoch: 89/200. Classification loss: 0.36109. Regression loss: 1.63729. Total loss: 1.99838\n"
     ]
    },
    {
     "data": {
      "application/vnd.jupyter.widget-view+json": {
       "model_id": "c2ef0dc0297b4607b0f568317f34d53d",
       "version_major": 2,
       "version_minor": 0
      },
      "text/plain": [
       "  0%|          | 0/188 [00:00<?, ?it/s]"
      ]
     },
     "metadata": {},
     "output_type": "display_data"
    },
    {
     "name": "stdout",
     "output_type": "stream",
     "text": [
      "checkpoint...\n",
      "checkpoint...\n",
      "Val. Epoch: 90/200. Classification loss: 0.35528. Regression loss: 1.64835. Total loss: 2.00363\n"
     ]
    },
    {
     "data": {
      "application/vnd.jupyter.widget-view+json": {
       "model_id": "96e78dd0fac84c5c815e0595961e4feb",
       "version_major": 2,
       "version_minor": 0
      },
      "text/plain": [
       "  0%|          | 0/188 [00:00<?, ?it/s]"
      ]
     },
     "metadata": {},
     "output_type": "display_data"
    },
    {
     "name": "stdout",
     "output_type": "stream",
     "text": [
      "checkpoint...\n",
      "Val. Epoch: 91/200. Classification loss: 0.36324. Regression loss: 1.69206. Total loss: 2.05530\n"
     ]
    },
    {
     "data": {
      "application/vnd.jupyter.widget-view+json": {
       "model_id": "9671e68a2e80455382edf708c96b3285",
       "version_major": 2,
       "version_minor": 0
      },
      "text/plain": [
       "  0%|          | 0/188 [00:00<?, ?it/s]"
      ]
     },
     "metadata": {},
     "output_type": "display_data"
    },
    {
     "name": "stdout",
     "output_type": "stream",
     "text": [
      "checkpoint...\n",
      "checkpoint...\n",
      "Val. Epoch: 92/200. Classification loss: 0.36157. Regression loss: 1.70942. Total loss: 2.07099\n"
     ]
    },
    {
     "data": {
      "application/vnd.jupyter.widget-view+json": {
       "model_id": "6dbf01715fc140fb9408de22ffd257a6",
       "version_major": 2,
       "version_minor": 0
      },
      "text/plain": [
       "  0%|          | 0/188 [00:00<?, ?it/s]"
      ]
     },
     "metadata": {},
     "output_type": "display_data"
    },
    {
     "name": "stdout",
     "output_type": "stream",
     "text": [
      "checkpoint...\n",
      "checkpoint...\n",
      "Val. Epoch: 93/200. Classification loss: 0.35741. Regression loss: 1.69430. Total loss: 2.05171\n"
     ]
    },
    {
     "data": {
      "application/vnd.jupyter.widget-view+json": {
       "model_id": "9285d2fa1e0a4469b95b08ae1789b040",
       "version_major": 2,
       "version_minor": 0
      },
      "text/plain": [
       "  0%|          | 0/188 [00:00<?, ?it/s]"
      ]
     },
     "metadata": {},
     "output_type": "display_data"
    },
    {
     "name": "stdout",
     "output_type": "stream",
     "text": [
      "checkpoint...\n",
      "checkpoint...\n",
      "Val. Epoch: 94/200. Classification loss: 0.36773. Regression loss: 1.72221. Total loss: 2.08994\n"
     ]
    },
    {
     "data": {
      "application/vnd.jupyter.widget-view+json": {
       "model_id": "fb611a980d2d4fe58461734c247e2161",
       "version_major": 2,
       "version_minor": 0
      },
      "text/plain": [
       "  0%|          | 0/188 [00:00<?, ?it/s]"
      ]
     },
     "metadata": {},
     "output_type": "display_data"
    },
    {
     "name": "stdout",
     "output_type": "stream",
     "text": [
      "checkpoint...\n",
      "checkpoint...\n",
      "Val. Epoch: 95/200. Classification loss: 0.34814. Regression loss: 1.64253. Total loss: 1.99067\n"
     ]
    },
    {
     "data": {
      "application/vnd.jupyter.widget-view+json": {
       "model_id": "2357b1e761f24cac91ba08c29bf5844b",
       "version_major": 2,
       "version_minor": 0
      },
      "text/plain": [
       "  0%|          | 0/188 [00:00<?, ?it/s]"
      ]
     },
     "metadata": {},
     "output_type": "display_data"
    },
    {
     "name": "stdout",
     "output_type": "stream",
     "text": [
      "checkpoint...\n",
      "checkpoint...\n",
      "Val. Epoch: 96/200. Classification loss: 0.36257. Regression loss: 1.67266. Total loss: 2.03523\n"
     ]
    },
    {
     "data": {
      "application/vnd.jupyter.widget-view+json": {
       "model_id": "8bb240dd490640f1a21d7f8cd0b2ccbc",
       "version_major": 2,
       "version_minor": 0
      },
      "text/plain": [
       "  0%|          | 0/188 [00:00<?, ?it/s]"
      ]
     },
     "metadata": {},
     "output_type": "display_data"
    },
    {
     "name": "stdout",
     "output_type": "stream",
     "text": [
      "checkpoint...\n",
      "checkpoint...\n",
      "Val. Epoch: 97/200. Classification loss: 0.37055. Regression loss: 1.66927. Total loss: 2.03983\n"
     ]
    },
    {
     "data": {
      "application/vnd.jupyter.widget-view+json": {
       "model_id": "9df93050fc4c432fb710dfa059adc898",
       "version_major": 2,
       "version_minor": 0
      },
      "text/plain": [
       "  0%|          | 0/188 [00:00<?, ?it/s]"
      ]
     },
     "metadata": {},
     "output_type": "display_data"
    },
    {
     "name": "stdout",
     "output_type": "stream",
     "text": [
      "checkpoint...\n",
      "checkpoint...\n",
      "Val. Epoch: 98/200. Classification loss: 0.37073. Regression loss: 1.70267. Total loss: 2.07340\n"
     ]
    },
    {
     "data": {
      "application/vnd.jupyter.widget-view+json": {
       "model_id": "838edc9326b34b229e3755c56135f29c",
       "version_major": 2,
       "version_minor": 0
      },
      "text/plain": [
       "  0%|          | 0/188 [00:00<?, ?it/s]"
      ]
     },
     "metadata": {},
     "output_type": "display_data"
    },
    {
     "name": "stdout",
     "output_type": "stream",
     "text": [
      "checkpoint...\n",
      "checkpoint...\n",
      "Val. Epoch: 99/200. Classification loss: 0.36211. Regression loss: 1.66121. Total loss: 2.02332\n"
     ]
    },
    {
     "data": {
      "application/vnd.jupyter.widget-view+json": {
       "model_id": "1bc34b191a984eecb4e13d44e5ddb65a",
       "version_major": 2,
       "version_minor": 0
      },
      "text/plain": [
       "  0%|          | 0/188 [00:00<?, ?it/s]"
      ]
     },
     "metadata": {},
     "output_type": "display_data"
    },
    {
     "name": "stdout",
     "output_type": "stream",
     "text": [
      "checkpoint...\n",
      "Val. Epoch: 100/200. Classification loss: 0.36521. Regression loss: 1.66678. Total loss: 2.03198\n"
     ]
    },
    {
     "data": {
      "application/vnd.jupyter.widget-view+json": {
       "model_id": "c75e9f3ee8a7414b85ecd3b7ad033b97",
       "version_major": 2,
       "version_minor": 0
      },
      "text/plain": [
       "  0%|          | 0/188 [00:00<?, ?it/s]"
      ]
     },
     "metadata": {},
     "output_type": "display_data"
    },
    {
     "name": "stdout",
     "output_type": "stream",
     "text": [
      "checkpoint...\n",
      "checkpoint...\n",
      "Val. Epoch: 101/200. Classification loss: 0.36733. Regression loss: 1.69919. Total loss: 2.06652\n"
     ]
    },
    {
     "data": {
      "application/vnd.jupyter.widget-view+json": {
       "model_id": "2cef4d692bf14c8193fb78d916919e80",
       "version_major": 2,
       "version_minor": 0
      },
      "text/plain": [
       "  0%|          | 0/188 [00:00<?, ?it/s]"
      ]
     },
     "metadata": {},
     "output_type": "display_data"
    },
    {
     "name": "stdout",
     "output_type": "stream",
     "text": [
      "checkpoint...\n",
      "checkpoint...\n",
      "Val. Epoch: 102/200. Classification loss: 0.36337. Regression loss: 1.67051. Total loss: 2.03388\n"
     ]
    },
    {
     "data": {
      "application/vnd.jupyter.widget-view+json": {
       "model_id": "4c673b57cbe44dad9e82f0809e3cf8ff",
       "version_major": 2,
       "version_minor": 0
      },
      "text/plain": [
       "  0%|          | 0/188 [00:00<?, ?it/s]"
      ]
     },
     "metadata": {},
     "output_type": "display_data"
    },
    {
     "name": "stdout",
     "output_type": "stream",
     "text": [
      "checkpoint...\n",
      "checkpoint...\n",
      "Val. Epoch: 103/200. Classification loss: 0.36047. Regression loss: 1.65550. Total loss: 2.01597\n"
     ]
    },
    {
     "data": {
      "application/vnd.jupyter.widget-view+json": {
       "model_id": "13f48c947aec45c4b5719a06b8c01cae",
       "version_major": 2,
       "version_minor": 0
      },
      "text/plain": [
       "  0%|          | 0/188 [00:00<?, ?it/s]"
      ]
     },
     "metadata": {},
     "output_type": "display_data"
    },
    {
     "name": "stdout",
     "output_type": "stream",
     "text": [
      "checkpoint...\n",
      "checkpoint...\n",
      "Val. Epoch: 104/200. Classification loss: 0.36076. Regression loss: 1.63994. Total loss: 2.00070\n"
     ]
    },
    {
     "data": {
      "application/vnd.jupyter.widget-view+json": {
       "model_id": "3b1be0efc5f649f28fccbb7a03c4e98d",
       "version_major": 2,
       "version_minor": 0
      },
      "text/plain": [
       "  0%|          | 0/188 [00:00<?, ?it/s]"
      ]
     },
     "metadata": {},
     "output_type": "display_data"
    },
    {
     "name": "stdout",
     "output_type": "stream",
     "text": [
      "checkpoint...\n",
      "checkpoint...\n",
      "Val. Epoch: 105/200. Classification loss: 0.36272. Regression loss: 1.63537. Total loss: 1.99809\n"
     ]
    },
    {
     "data": {
      "application/vnd.jupyter.widget-view+json": {
       "model_id": "fc5ea5a1432b40b18790af685d1ca549",
       "version_major": 2,
       "version_minor": 0
      },
      "text/plain": [
       "  0%|          | 0/188 [00:00<?, ?it/s]"
      ]
     },
     "metadata": {},
     "output_type": "display_data"
    },
    {
     "name": "stdout",
     "output_type": "stream",
     "text": [
      "checkpoint...\n",
      "checkpoint...\n",
      "Val. Epoch: 106/200. Classification loss: 0.37856. Regression loss: 1.64787. Total loss: 2.02643\n"
     ]
    },
    {
     "data": {
      "application/vnd.jupyter.widget-view+json": {
       "model_id": "f8bdaa0bdae942a9813b07b92832160a",
       "version_major": 2,
       "version_minor": 0
      },
      "text/plain": [
       "  0%|          | 0/188 [00:00<?, ?it/s]"
      ]
     },
     "metadata": {},
     "output_type": "display_data"
    },
    {
     "name": "stdout",
     "output_type": "stream",
     "text": [
      "checkpoint...\n",
      "checkpoint...\n",
      "Val. Epoch: 107/200. Classification loss: 0.35907. Regression loss: 1.60076. Total loss: 1.95984\n"
     ]
    },
    {
     "data": {
      "application/vnd.jupyter.widget-view+json": {
       "model_id": "39050c7e1ab54e9f8711ec6c4acba8da",
       "version_major": 2,
       "version_minor": 0
      },
      "text/plain": [
       "  0%|          | 0/188 [00:00<?, ?it/s]"
      ]
     },
     "metadata": {},
     "output_type": "display_data"
    },
    {
     "name": "stdout",
     "output_type": "stream",
     "text": [
      "checkpoint...\n",
      "Val. Epoch: 108/200. Classification loss: 0.37060. Regression loss: 1.69204. Total loss: 2.06264\n"
     ]
    },
    {
     "data": {
      "application/vnd.jupyter.widget-view+json": {
       "model_id": "d441e8f0e8f24844b274bfb492fa6355",
       "version_major": 2,
       "version_minor": 0
      },
      "text/plain": [
       "  0%|          | 0/188 [00:00<?, ?it/s]"
      ]
     },
     "metadata": {},
     "output_type": "display_data"
    },
    {
     "name": "stdout",
     "output_type": "stream",
     "text": [
      "checkpoint...\n",
      "checkpoint...\n",
      "Val. Epoch: 109/200. Classification loss: 0.37581. Regression loss: 1.66323. Total loss: 2.03904\n"
     ]
    },
    {
     "data": {
      "application/vnd.jupyter.widget-view+json": {
       "model_id": "9351fd9881ff4809a1a0269016263a85",
       "version_major": 2,
       "version_minor": 0
      },
      "text/plain": [
       "  0%|          | 0/188 [00:00<?, ?it/s]"
      ]
     },
     "metadata": {},
     "output_type": "display_data"
    },
    {
     "name": "stdout",
     "output_type": "stream",
     "text": [
      "checkpoint...\n",
      "checkpoint...\n",
      "Val. Epoch: 110/200. Classification loss: 0.37092. Regression loss: 1.67888. Total loss: 2.04980\n"
     ]
    },
    {
     "data": {
      "application/vnd.jupyter.widget-view+json": {
       "model_id": "b9b9f3b448de4399b513e8e06ad12e79",
       "version_major": 2,
       "version_minor": 0
      },
      "text/plain": [
       "  0%|          | 0/188 [00:00<?, ?it/s]"
      ]
     },
     "metadata": {},
     "output_type": "display_data"
    },
    {
     "name": "stdout",
     "output_type": "stream",
     "text": [
      "checkpoint...\n",
      "checkpoint...\n",
      "Val. Epoch: 111/200. Classification loss: 0.36547. Regression loss: 1.61479. Total loss: 1.98026\n"
     ]
    },
    {
     "data": {
      "application/vnd.jupyter.widget-view+json": {
       "model_id": "20f7fb7c786541b5b64b89a60d8b17b3",
       "version_major": 2,
       "version_minor": 0
      },
      "text/plain": [
       "  0%|          | 0/188 [00:00<?, ?it/s]"
      ]
     },
     "metadata": {},
     "output_type": "display_data"
    },
    {
     "name": "stdout",
     "output_type": "stream",
     "text": [
      "checkpoint...\n",
      "checkpoint...\n",
      "Val. Epoch: 112/200. Classification loss: 0.37936. Regression loss: 1.67990. Total loss: 2.05926\n"
     ]
    },
    {
     "data": {
      "application/vnd.jupyter.widget-view+json": {
       "model_id": "550b4ccd09d3442db6ab35b657b3bff3",
       "version_major": 2,
       "version_minor": 0
      },
      "text/plain": [
       "  0%|          | 0/188 [00:00<?, ?it/s]"
      ]
     },
     "metadata": {},
     "output_type": "display_data"
    },
    {
     "name": "stdout",
     "output_type": "stream",
     "text": [
      "checkpoint...\n",
      "checkpoint...\n",
      "Val. Epoch: 113/200. Classification loss: 0.38163. Regression loss: 1.66425. Total loss: 2.04588\n"
     ]
    },
    {
     "data": {
      "application/vnd.jupyter.widget-view+json": {
       "model_id": "07b6bf7740a3448e8f49ebb106ea903e",
       "version_major": 2,
       "version_minor": 0
      },
      "text/plain": [
       "  0%|          | 0/188 [00:00<?, ?it/s]"
      ]
     },
     "metadata": {},
     "output_type": "display_data"
    },
    {
     "name": "stdout",
     "output_type": "stream",
     "text": [
      "checkpoint...\n",
      "checkpoint...\n",
      "Val. Epoch: 114/200. Classification loss: 0.38053. Regression loss: 1.65724. Total loss: 2.03777\n"
     ]
    },
    {
     "data": {
      "application/vnd.jupyter.widget-view+json": {
       "model_id": "2ac2ab38e2fd4b48b14b297381805e6f",
       "version_major": 2,
       "version_minor": 0
      },
      "text/plain": [
       "  0%|          | 0/188 [00:00<?, ?it/s]"
      ]
     },
     "metadata": {},
     "output_type": "display_data"
    },
    {
     "name": "stdout",
     "output_type": "stream",
     "text": [
      "checkpoint...\n",
      "checkpoint...\n",
      "Val. Epoch: 115/200. Classification loss: 0.37150. Regression loss: 1.62409. Total loss: 1.99559\n"
     ]
    },
    {
     "data": {
      "application/vnd.jupyter.widget-view+json": {
       "model_id": "c127000b88504c5287d1cec700806d0e",
       "version_major": 2,
       "version_minor": 0
      },
      "text/plain": [
       "  0%|          | 0/188 [00:00<?, ?it/s]"
      ]
     },
     "metadata": {},
     "output_type": "display_data"
    },
    {
     "name": "stdout",
     "output_type": "stream",
     "text": [
      "checkpoint...\n",
      "Val. Epoch: 116/200. Classification loss: 0.37867. Regression loss: 1.66214. Total loss: 2.04081\n"
     ]
    },
    {
     "data": {
      "application/vnd.jupyter.widget-view+json": {
       "model_id": "980b597ec9b6465fbef1c5e64e184f11",
       "version_major": 2,
       "version_minor": 0
      },
      "text/plain": [
       "  0%|          | 0/188 [00:00<?, ?it/s]"
      ]
     },
     "metadata": {},
     "output_type": "display_data"
    },
    {
     "name": "stdout",
     "output_type": "stream",
     "text": [
      "checkpoint...\n",
      "checkpoint...\n",
      "Val. Epoch: 117/200. Classification loss: 0.36237. Regression loss: 1.61827. Total loss: 1.98064\n"
     ]
    },
    {
     "data": {
      "application/vnd.jupyter.widget-view+json": {
       "model_id": "dca8a43372ef4d7dbe7f70a9bc8cdf13",
       "version_major": 2,
       "version_minor": 0
      },
      "text/plain": [
       "  0%|          | 0/188 [00:00<?, ?it/s]"
      ]
     },
     "metadata": {},
     "output_type": "display_data"
    },
    {
     "name": "stdout",
     "output_type": "stream",
     "text": [
      "checkpoint...\n",
      "checkpoint...\n",
      "Val. Epoch: 118/200. Classification loss: 0.36597. Regression loss: 1.63051. Total loss: 1.99648\n"
     ]
    },
    {
     "data": {
      "application/vnd.jupyter.widget-view+json": {
       "model_id": "c397d21e92b8428d901aacee1b7ea308",
       "version_major": 2,
       "version_minor": 0
      },
      "text/plain": [
       "  0%|          | 0/188 [00:00<?, ?it/s]"
      ]
     },
     "metadata": {},
     "output_type": "display_data"
    },
    {
     "name": "stdout",
     "output_type": "stream",
     "text": [
      "checkpoint...\n",
      "checkpoint...\n",
      "Val. Epoch: 119/200. Classification loss: 0.36944. Regression loss: 1.63036. Total loss: 1.99980\n"
     ]
    },
    {
     "data": {
      "application/vnd.jupyter.widget-view+json": {
       "model_id": "b233aaf5d6944dc093a5d25d202c5e2e",
       "version_major": 2,
       "version_minor": 0
      },
      "text/plain": [
       "  0%|          | 0/188 [00:00<?, ?it/s]"
      ]
     },
     "metadata": {},
     "output_type": "display_data"
    },
    {
     "name": "stdout",
     "output_type": "stream",
     "text": [
      "checkpoint...\n",
      "checkpoint...\n",
      "Val. Epoch: 120/200. Classification loss: 0.37597. Regression loss: 1.62387. Total loss: 1.99984\n"
     ]
    },
    {
     "data": {
      "application/vnd.jupyter.widget-view+json": {
       "model_id": "591220f09ced40b88c4ec6be344ea14a",
       "version_major": 2,
       "version_minor": 0
      },
      "text/plain": [
       "  0%|          | 0/188 [00:00<?, ?it/s]"
      ]
     },
     "metadata": {},
     "output_type": "display_data"
    },
    {
     "name": "stdout",
     "output_type": "stream",
     "text": [
      "checkpoint...\n",
      "checkpoint...\n",
      "Val. Epoch: 121/200. Classification loss: 0.36848. Regression loss: 1.62663. Total loss: 1.99511\n"
     ]
    },
    {
     "data": {
      "application/vnd.jupyter.widget-view+json": {
       "model_id": "e289d4e720d042d8ba04ec80d54b58e3",
       "version_major": 2,
       "version_minor": 0
      },
      "text/plain": [
       "  0%|          | 0/188 [00:00<?, ?it/s]"
      ]
     },
     "metadata": {},
     "output_type": "display_data"
    },
    {
     "name": "stdout",
     "output_type": "stream",
     "text": [
      "checkpoint...\n",
      "checkpoint...\n",
      "Val. Epoch: 122/200. Classification loss: 0.38402. Regression loss: 1.68328. Total loss: 2.06729\n"
     ]
    },
    {
     "data": {
      "application/vnd.jupyter.widget-view+json": {
       "model_id": "d2b976d336ad45ce856bbba4259b7939",
       "version_major": 2,
       "version_minor": 0
      },
      "text/plain": [
       "  0%|          | 0/188 [00:00<?, ?it/s]"
      ]
     },
     "metadata": {},
     "output_type": "display_data"
    },
    {
     "name": "stdout",
     "output_type": "stream",
     "text": [
      "checkpoint...\n",
      "checkpoint...\n",
      "Val. Epoch: 123/200. Classification loss: 0.39185. Regression loss: 1.69781. Total loss: 2.08966\n"
     ]
    },
    {
     "data": {
      "application/vnd.jupyter.widget-view+json": {
       "model_id": "9a991a1800e44a9cb3d803bb5c8dcf69",
       "version_major": 2,
       "version_minor": 0
      },
      "text/plain": [
       "  0%|          | 0/188 [00:00<?, ?it/s]"
      ]
     },
     "metadata": {},
     "output_type": "display_data"
    },
    {
     "name": "stdout",
     "output_type": "stream",
     "text": [
      "checkpoint...\n",
      "checkpoint...\n",
      "Val. Epoch: 124/200. Classification loss: 0.38326. Regression loss: 1.65375. Total loss: 2.03701\n"
     ]
    },
    {
     "data": {
      "application/vnd.jupyter.widget-view+json": {
       "model_id": "2b42f9ccdb814323bc7a84b436ab6cb1",
       "version_major": 2,
       "version_minor": 0
      },
      "text/plain": [
       "  0%|          | 0/188 [00:00<?, ?it/s]"
      ]
     },
     "metadata": {},
     "output_type": "display_data"
    },
    {
     "name": "stdout",
     "output_type": "stream",
     "text": [
      "checkpoint...\n",
      "Val. Epoch: 125/200. Classification loss: 0.39279. Regression loss: 1.68904. Total loss: 2.08184\n"
     ]
    },
    {
     "data": {
      "application/vnd.jupyter.widget-view+json": {
       "model_id": "83995defd0a14b2db6698fd62382f20c",
       "version_major": 2,
       "version_minor": 0
      },
      "text/plain": [
       "  0%|          | 0/188 [00:00<?, ?it/s]"
      ]
     },
     "metadata": {},
     "output_type": "display_data"
    },
    {
     "name": "stdout",
     "output_type": "stream",
     "text": [
      "checkpoint...\n",
      "checkpoint...\n",
      "Val. Epoch: 126/200. Classification loss: 0.38027. Regression loss: 1.62983. Total loss: 2.01010\n"
     ]
    },
    {
     "data": {
      "application/vnd.jupyter.widget-view+json": {
       "model_id": "8ab58c5c095c4922aac0152217f57998",
       "version_major": 2,
       "version_minor": 0
      },
      "text/plain": [
       "  0%|          | 0/188 [00:00<?, ?it/s]"
      ]
     },
     "metadata": {},
     "output_type": "display_data"
    },
    {
     "name": "stdout",
     "output_type": "stream",
     "text": [
      "checkpoint...\n",
      "checkpoint...\n",
      "Val. Epoch: 127/200. Classification loss: 0.38775. Regression loss: 1.65665. Total loss: 2.04440\n"
     ]
    },
    {
     "data": {
      "application/vnd.jupyter.widget-view+json": {
       "model_id": "60c08638255d490fbc0471bded2451e1",
       "version_major": 2,
       "version_minor": 0
      },
      "text/plain": [
       "  0%|          | 0/188 [00:00<?, ?it/s]"
      ]
     },
     "metadata": {},
     "output_type": "display_data"
    },
    {
     "name": "stdout",
     "output_type": "stream",
     "text": [
      "checkpoint...\n",
      "checkpoint...\n",
      "Val. Epoch: 128/200. Classification loss: 0.38200. Regression loss: 1.64652. Total loss: 2.02852\n"
     ]
    },
    {
     "data": {
      "application/vnd.jupyter.widget-view+json": {
       "model_id": "94616dc11d404e7ebf970e4c4fce8f1c",
       "version_major": 2,
       "version_minor": 0
      },
      "text/plain": [
       "  0%|          | 0/188 [00:00<?, ?it/s]"
      ]
     },
     "metadata": {},
     "output_type": "display_data"
    },
    {
     "name": "stdout",
     "output_type": "stream",
     "text": [
      "checkpoint...\n",
      "checkpoint...\n",
      "Val. Epoch: 129/200. Classification loss: 0.38133. Regression loss: 1.62659. Total loss: 2.00791\n"
     ]
    },
    {
     "data": {
      "application/vnd.jupyter.widget-view+json": {
       "model_id": "99d9efc1b346433da807b3552ec7256e",
       "version_major": 2,
       "version_minor": 0
      },
      "text/plain": [
       "  0%|          | 0/188 [00:00<?, ?it/s]"
      ]
     },
     "metadata": {},
     "output_type": "display_data"
    },
    {
     "name": "stdout",
     "output_type": "stream",
     "text": [
      "checkpoint...\n",
      "checkpoint...\n",
      "Val. Epoch: 130/200. Classification loss: 0.38988. Regression loss: 1.64169. Total loss: 2.03158\n"
     ]
    },
    {
     "data": {
      "application/vnd.jupyter.widget-view+json": {
       "model_id": "51212cb42d6a4a31af7b0e724235f8fc",
       "version_major": 2,
       "version_minor": 0
      },
      "text/plain": [
       "  0%|          | 0/188 [00:00<?, ?it/s]"
      ]
     },
     "metadata": {},
     "output_type": "display_data"
    },
    {
     "name": "stdout",
     "output_type": "stream",
     "text": [
      "checkpoint...\n",
      "checkpoint...\n",
      "Val. Epoch: 131/200. Classification loss: 0.39127. Regression loss: 1.66881. Total loss: 2.06008\n"
     ]
    },
    {
     "data": {
      "application/vnd.jupyter.widget-view+json": {
       "model_id": "9f7b1ed7d96b4ef5bdcf2aef36a64371",
       "version_major": 2,
       "version_minor": 0
      },
      "text/plain": [
       "  0%|          | 0/188 [00:00<?, ?it/s]"
      ]
     },
     "metadata": {},
     "output_type": "display_data"
    },
    {
     "name": "stdout",
     "output_type": "stream",
     "text": [
      "checkpoint...\n",
      "checkpoint...\n",
      "Val. Epoch: 132/200. Classification loss: 0.38803. Regression loss: 1.67572. Total loss: 2.06376\n"
     ]
    },
    {
     "data": {
      "application/vnd.jupyter.widget-view+json": {
       "model_id": "416ddc7ec2164db29eb9e4df784ecd3b",
       "version_major": 2,
       "version_minor": 0
      },
      "text/plain": [
       "  0%|          | 0/188 [00:00<?, ?it/s]"
      ]
     },
     "metadata": {},
     "output_type": "display_data"
    },
    {
     "name": "stdout",
     "output_type": "stream",
     "text": [
      "checkpoint...\n",
      "Val. Epoch: 133/200. Classification loss: 0.38760. Regression loss: 1.65709. Total loss: 2.04469\n"
     ]
    },
    {
     "data": {
      "application/vnd.jupyter.widget-view+json": {
       "model_id": "add6ac50b1114c24af0c3ca955c16e18",
       "version_major": 2,
       "version_minor": 0
      },
      "text/plain": [
       "  0%|          | 0/188 [00:00<?, ?it/s]"
      ]
     },
     "metadata": {},
     "output_type": "display_data"
    },
    {
     "name": "stdout",
     "output_type": "stream",
     "text": [
      "checkpoint...\n",
      "checkpoint...\n",
      "Val. Epoch: 134/200. Classification loss: 0.38422. Regression loss: 1.66271. Total loss: 2.04693\n"
     ]
    },
    {
     "data": {
      "application/vnd.jupyter.widget-view+json": {
       "model_id": "ac65f5559b3e418fa692f835ee6d4922",
       "version_major": 2,
       "version_minor": 0
      },
      "text/plain": [
       "  0%|          | 0/188 [00:00<?, ?it/s]"
      ]
     },
     "metadata": {},
     "output_type": "display_data"
    },
    {
     "name": "stdout",
     "output_type": "stream",
     "text": [
      "checkpoint...\n",
      "checkpoint...\n",
      "Val. Epoch: 135/200. Classification loss: 0.37127. Regression loss: 1.62621. Total loss: 1.99748\n"
     ]
    },
    {
     "data": {
      "application/vnd.jupyter.widget-view+json": {
       "model_id": "0e271d1b2387468ea5fc1553570274d3",
       "version_major": 2,
       "version_minor": 0
      },
      "text/plain": [
       "  0%|          | 0/188 [00:00<?, ?it/s]"
      ]
     },
     "metadata": {},
     "output_type": "display_data"
    },
    {
     "name": "stdout",
     "output_type": "stream",
     "text": [
      "checkpoint...\n",
      "checkpoint...\n",
      "Val. Epoch: 136/200. Classification loss: 0.37117. Regression loss: 1.62802. Total loss: 1.99919\n"
     ]
    },
    {
     "data": {
      "application/vnd.jupyter.widget-view+json": {
       "model_id": "7e0e4ac23bea4102917b2a8fe9260a33",
       "version_major": 2,
       "version_minor": 0
      },
      "text/plain": [
       "  0%|          | 0/188 [00:00<?, ?it/s]"
      ]
     },
     "metadata": {},
     "output_type": "display_data"
    },
    {
     "name": "stdout",
     "output_type": "stream",
     "text": [
      "checkpoint...\n",
      "checkpoint...\n",
      "Val. Epoch: 137/200. Classification loss: 0.38082. Regression loss: 1.62775. Total loss: 2.00857\n"
     ]
    },
    {
     "data": {
      "application/vnd.jupyter.widget-view+json": {
       "model_id": "c9dcd82bcd004f1da6bdc7f0dea4f9de",
       "version_major": 2,
       "version_minor": 0
      },
      "text/plain": [
       "  0%|          | 0/188 [00:00<?, ?it/s]"
      ]
     },
     "metadata": {},
     "output_type": "display_data"
    },
    {
     "name": "stdout",
     "output_type": "stream",
     "text": [
      "checkpoint...\n",
      "checkpoint...\n",
      "Val. Epoch: 138/200. Classification loss: 0.37312. Regression loss: 1.65464. Total loss: 2.02776\n"
     ]
    },
    {
     "data": {
      "application/vnd.jupyter.widget-view+json": {
       "model_id": "d19d0d6d15bf41c7abcc579ea932f44f",
       "version_major": 2,
       "version_minor": 0
      },
      "text/plain": [
       "  0%|          | 0/188 [00:00<?, ?it/s]"
      ]
     },
     "metadata": {},
     "output_type": "display_data"
    },
    {
     "name": "stdout",
     "output_type": "stream",
     "text": [
      "checkpoint...\n",
      "checkpoint...\n",
      "Val. Epoch: 139/200. Classification loss: 0.37742. Regression loss: 1.63150. Total loss: 2.00892\n"
     ]
    },
    {
     "data": {
      "application/vnd.jupyter.widget-view+json": {
       "model_id": "25a4cdb0371d4dd7ba6bcdf628332f33",
       "version_major": 2,
       "version_minor": 0
      },
      "text/plain": [
       "  0%|          | 0/188 [00:00<?, ?it/s]"
      ]
     },
     "metadata": {},
     "output_type": "display_data"
    },
    {
     "name": "stdout",
     "output_type": "stream",
     "text": [
      "checkpoint...\n",
      "checkpoint...\n",
      "Val. Epoch: 140/200. Classification loss: 0.39178. Regression loss: 1.66751. Total loss: 2.05929\n"
     ]
    },
    {
     "data": {
      "application/vnd.jupyter.widget-view+json": {
       "model_id": "74077f286f594e208b1aa2fac2df684f",
       "version_major": 2,
       "version_minor": 0
      },
      "text/plain": [
       "  0%|          | 0/188 [00:00<?, ?it/s]"
      ]
     },
     "metadata": {},
     "output_type": "display_data"
    },
    {
     "name": "stdout",
     "output_type": "stream",
     "text": [
      "checkpoint...\n",
      "Val. Epoch: 141/200. Classification loss: 0.39251. Regression loss: 1.65217. Total loss: 2.04469\n"
     ]
    },
    {
     "data": {
      "application/vnd.jupyter.widget-view+json": {
       "model_id": "c3ed3a02514e42839ec22a940fa30293",
       "version_major": 2,
       "version_minor": 0
      },
      "text/plain": [
       "  0%|          | 0/188 [00:00<?, ?it/s]"
      ]
     },
     "metadata": {},
     "output_type": "display_data"
    },
    {
     "name": "stdout",
     "output_type": "stream",
     "text": [
      "checkpoint...\n",
      "checkpoint...\n",
      "Val. Epoch: 142/200. Classification loss: 0.38453. Regression loss: 1.62502. Total loss: 2.00955\n"
     ]
    },
    {
     "data": {
      "application/vnd.jupyter.widget-view+json": {
       "model_id": "df29b646d921414681ec85c90e86239a",
       "version_major": 2,
       "version_minor": 0
      },
      "text/plain": [
       "  0%|          | 0/188 [00:00<?, ?it/s]"
      ]
     },
     "metadata": {},
     "output_type": "display_data"
    },
    {
     "name": "stdout",
     "output_type": "stream",
     "text": [
      "checkpoint...\n",
      "checkpoint...\n",
      "Val. Epoch: 143/200. Classification loss: 0.39736. Regression loss: 1.68070. Total loss: 2.07806\n"
     ]
    },
    {
     "data": {
      "application/vnd.jupyter.widget-view+json": {
       "model_id": "1f08cdc25efe4282a054f111257519f6",
       "version_major": 2,
       "version_minor": 0
      },
      "text/plain": [
       "  0%|          | 0/188 [00:00<?, ?it/s]"
      ]
     },
     "metadata": {},
     "output_type": "display_data"
    },
    {
     "name": "stdout",
     "output_type": "stream",
     "text": [
      "checkpoint...\n",
      "checkpoint...\n",
      "Val. Epoch: 144/200. Classification loss: 0.39523. Regression loss: 1.66088. Total loss: 2.05611\n"
     ]
    },
    {
     "data": {
      "application/vnd.jupyter.widget-view+json": {
       "model_id": "d3318eb7b3d949b6ba8dd2bed981884c",
       "version_major": 2,
       "version_minor": 0
      },
      "text/plain": [
       "  0%|          | 0/188 [00:00<?, ?it/s]"
      ]
     },
     "metadata": {},
     "output_type": "display_data"
    },
    {
     "name": "stdout",
     "output_type": "stream",
     "text": [
      "checkpoint...\n",
      "checkpoint...\n",
      "Val. Epoch: 145/200. Classification loss: 0.39886. Regression loss: 1.66852. Total loss: 2.06738\n"
     ]
    },
    {
     "data": {
      "application/vnd.jupyter.widget-view+json": {
       "model_id": "5593a5d24aae44c085e40790093bb0b0",
       "version_major": 2,
       "version_minor": 0
      },
      "text/plain": [
       "  0%|          | 0/188 [00:00<?, ?it/s]"
      ]
     },
     "metadata": {},
     "output_type": "display_data"
    },
    {
     "name": "stdout",
     "output_type": "stream",
     "text": [
      "checkpoint...\n",
      "checkpoint...\n",
      "Val. Epoch: 146/200. Classification loss: 0.38610. Regression loss: 1.60588. Total loss: 1.99198\n"
     ]
    },
    {
     "data": {
      "application/vnd.jupyter.widget-view+json": {
       "model_id": "c3a18828ba1b492982b46fc00a49578c",
       "version_major": 2,
       "version_minor": 0
      },
      "text/plain": [
       "  0%|          | 0/188 [00:00<?, ?it/s]"
      ]
     },
     "metadata": {},
     "output_type": "display_data"
    },
    {
     "name": "stdout",
     "output_type": "stream",
     "text": [
      "checkpoint...\n",
      "checkpoint...\n",
      "Val. Epoch: 147/200. Classification loss: 0.39015. Regression loss: 1.61493. Total loss: 2.00508\n"
     ]
    },
    {
     "data": {
      "application/vnd.jupyter.widget-view+json": {
       "model_id": "0baad6584a79426b85d75dee6f42ccdf",
       "version_major": 2,
       "version_minor": 0
      },
      "text/plain": [
       "  0%|          | 0/188 [00:00<?, ?it/s]"
      ]
     },
     "metadata": {},
     "output_type": "display_data"
    },
    {
     "name": "stdout",
     "output_type": "stream",
     "text": [
      "checkpoint...\n",
      "checkpoint...\n",
      "Val. Epoch: 148/200. Classification loss: 0.39030. Regression loss: 1.64784. Total loss: 2.03814\n"
     ]
    },
    {
     "data": {
      "application/vnd.jupyter.widget-view+json": {
       "model_id": "38a758790c4b491a8c0a83e9d55d22ff",
       "version_major": 2,
       "version_minor": 0
      },
      "text/plain": [
       "  0%|          | 0/188 [00:00<?, ?it/s]"
      ]
     },
     "metadata": {},
     "output_type": "display_data"
    },
    {
     "name": "stdout",
     "output_type": "stream",
     "text": [
      "checkpoint...\n",
      "checkpoint...\n",
      "Val. Epoch: 149/200. Classification loss: 0.38792. Regression loss: 1.64612. Total loss: 2.03404\n"
     ]
    },
    {
     "data": {
      "application/vnd.jupyter.widget-view+json": {
       "model_id": "5036c428cba2463eabf04954c6232915",
       "version_major": 2,
       "version_minor": 0
      },
      "text/plain": [
       "  0%|          | 0/188 [00:00<?, ?it/s]"
      ]
     },
     "metadata": {},
     "output_type": "display_data"
    },
    {
     "name": "stdout",
     "output_type": "stream",
     "text": [
      "checkpoint...\n",
      "Val. Epoch: 150/200. Classification loss: 0.38318. Regression loss: 1.61460. Total loss: 1.99778\n"
     ]
    },
    {
     "data": {
      "application/vnd.jupyter.widget-view+json": {
       "model_id": "e5d34b08898c41f18c48cb9ae1298420",
       "version_major": 2,
       "version_minor": 0
      },
      "text/plain": [
       "  0%|          | 0/188 [00:00<?, ?it/s]"
      ]
     },
     "metadata": {},
     "output_type": "display_data"
    },
    {
     "name": "stdout",
     "output_type": "stream",
     "text": [
      "checkpoint...\n",
      "checkpoint...\n",
      "Val. Epoch: 151/200. Classification loss: 0.39156. Regression loss: 1.63202. Total loss: 2.02358\n"
     ]
    },
    {
     "data": {
      "application/vnd.jupyter.widget-view+json": {
       "model_id": "9a2c752eabab43ffa192ca3e329372aa",
       "version_major": 2,
       "version_minor": 0
      },
      "text/plain": [
       "  0%|          | 0/188 [00:00<?, ?it/s]"
      ]
     },
     "metadata": {},
     "output_type": "display_data"
    },
    {
     "name": "stdout",
     "output_type": "stream",
     "text": [
      "checkpoint...\n",
      "checkpoint...\n",
      "Val. Epoch: 152/200. Classification loss: 0.38610. Regression loss: 1.60542. Total loss: 1.99151\n"
     ]
    },
    {
     "data": {
      "application/vnd.jupyter.widget-view+json": {
       "model_id": "a01fa54d1b6142bdbf8f23f489d394eb",
       "version_major": 2,
       "version_minor": 0
      },
      "text/plain": [
       "  0%|          | 0/188 [00:00<?, ?it/s]"
      ]
     },
     "metadata": {},
     "output_type": "display_data"
    },
    {
     "name": "stdout",
     "output_type": "stream",
     "text": [
      "checkpoint...\n",
      "checkpoint...\n",
      "Val. Epoch: 153/200. Classification loss: 0.39174. Regression loss: 1.63628. Total loss: 2.02802\n"
     ]
    },
    {
     "data": {
      "application/vnd.jupyter.widget-view+json": {
       "model_id": "4abdb48b0515414c8be8a2c5d3666c63",
       "version_major": 2,
       "version_minor": 0
      },
      "text/plain": [
       "  0%|          | 0/188 [00:00<?, ?it/s]"
      ]
     },
     "metadata": {},
     "output_type": "display_data"
    },
    {
     "name": "stdout",
     "output_type": "stream",
     "text": [
      "checkpoint...\n",
      "checkpoint...\n",
      "Val. Epoch: 154/200. Classification loss: 0.40927. Regression loss: 1.67311. Total loss: 2.08237\n"
     ]
    },
    {
     "data": {
      "application/vnd.jupyter.widget-view+json": {
       "model_id": "5e56ed61b26e4621b6e5a077442b5574",
       "version_major": 2,
       "version_minor": 0
      },
      "text/plain": [
       "  0%|          | 0/188 [00:00<?, ?it/s]"
      ]
     },
     "metadata": {},
     "output_type": "display_data"
    },
    {
     "name": "stdout",
     "output_type": "stream",
     "text": [
      "checkpoint...\n",
      "checkpoint...\n",
      "Val. Epoch: 155/200. Classification loss: 0.39848. Regression loss: 1.64144. Total loss: 2.03992\n"
     ]
    },
    {
     "data": {
      "application/vnd.jupyter.widget-view+json": {
       "model_id": "9818a885f6e548efa9ec7376ccbc8c9c",
       "version_major": 2,
       "version_minor": 0
      },
      "text/plain": [
       "  0%|          | 0/188 [00:00<?, ?it/s]"
      ]
     },
     "metadata": {},
     "output_type": "display_data"
    },
    {
     "name": "stdout",
     "output_type": "stream",
     "text": [
      "checkpoint...\n",
      "checkpoint...\n",
      "Val. Epoch: 156/200. Classification loss: 0.38525. Regression loss: 1.58664. Total loss: 1.97189\n"
     ]
    },
    {
     "data": {
      "application/vnd.jupyter.widget-view+json": {
       "model_id": "079f99c9ac7b43e5a9b3224a0891c58a",
       "version_major": 2,
       "version_minor": 0
      },
      "text/plain": [
       "  0%|          | 0/188 [00:00<?, ?it/s]"
      ]
     },
     "metadata": {},
     "output_type": "display_data"
    },
    {
     "name": "stdout",
     "output_type": "stream",
     "text": [
      "checkpoint...\n",
      "checkpoint...\n",
      "Val. Epoch: 157/200. Classification loss: 0.40646. Regression loss: 1.67011. Total loss: 2.07657\n"
     ]
    },
    {
     "data": {
      "application/vnd.jupyter.widget-view+json": {
       "model_id": "a2218ecf29e74f3f849cbae34b7d1ba2",
       "version_major": 2,
       "version_minor": 0
      },
      "text/plain": [
       "  0%|          | 0/188 [00:00<?, ?it/s]"
      ]
     },
     "metadata": {},
     "output_type": "display_data"
    },
    {
     "name": "stdout",
     "output_type": "stream",
     "text": [
      "checkpoint...\n",
      "Val. Epoch: 158/200. Classification loss: 0.39491. Regression loss: 1.61441. Total loss: 2.00932\n"
     ]
    },
    {
     "data": {
      "application/vnd.jupyter.widget-view+json": {
       "model_id": "991ff8fa988943ec83d799e3f50e3819",
       "version_major": 2,
       "version_minor": 0
      },
      "text/plain": [
       "  0%|          | 0/188 [00:00<?, ?it/s]"
      ]
     },
     "metadata": {},
     "output_type": "display_data"
    },
    {
     "name": "stdout",
     "output_type": "stream",
     "text": [
      "checkpoint...\n",
      "checkpoint...\n",
      "Val. Epoch: 159/200. Classification loss: 0.40275. Regression loss: 1.63442. Total loss: 2.03717\n"
     ]
    },
    {
     "data": {
      "application/vnd.jupyter.widget-view+json": {
       "model_id": "968f7e275c24426db7032a7c6473f860",
       "version_major": 2,
       "version_minor": 0
      },
      "text/plain": [
       "  0%|          | 0/188 [00:00<?, ?it/s]"
      ]
     },
     "metadata": {},
     "output_type": "display_data"
    },
    {
     "name": "stdout",
     "output_type": "stream",
     "text": [
      "checkpoint...\n",
      "checkpoint...\n",
      "Val. Epoch: 160/200. Classification loss: 0.38771. Regression loss: 1.56865. Total loss: 1.95636\n"
     ]
    },
    {
     "data": {
      "application/vnd.jupyter.widget-view+json": {
       "model_id": "2d71d6b808ad4e4db7e3554b6f11bdd4",
       "version_major": 2,
       "version_minor": 0
      },
      "text/plain": [
       "  0%|          | 0/188 [00:00<?, ?it/s]"
      ]
     },
     "metadata": {},
     "output_type": "display_data"
    },
    {
     "name": "stdout",
     "output_type": "stream",
     "text": [
      "checkpoint...\n",
      "checkpoint...\n",
      "Val. Epoch: 161/200. Classification loss: 0.38587. Regression loss: 1.59631. Total loss: 1.98218\n"
     ]
    },
    {
     "data": {
      "application/vnd.jupyter.widget-view+json": {
       "model_id": "32b68ba02a824e7582d5ad8f3760f4a5",
       "version_major": 2,
       "version_minor": 0
      },
      "text/plain": [
       "  0%|          | 0/188 [00:00<?, ?it/s]"
      ]
     },
     "metadata": {},
     "output_type": "display_data"
    },
    {
     "name": "stdout",
     "output_type": "stream",
     "text": [
      "checkpoint...\n",
      "checkpoint...\n",
      "Val. Epoch: 162/200. Classification loss: 0.40272. Regression loss: 1.62317. Total loss: 2.02589\n"
     ]
    },
    {
     "data": {
      "application/vnd.jupyter.widget-view+json": {
       "model_id": "18659da3f81545b6b5abf06533949957",
       "version_major": 2,
       "version_minor": 0
      },
      "text/plain": [
       "  0%|          | 0/188 [00:00<?, ?it/s]"
      ]
     },
     "metadata": {},
     "output_type": "display_data"
    },
    {
     "name": "stdout",
     "output_type": "stream",
     "text": [
      "checkpoint...\n",
      "checkpoint...\n",
      "Val. Epoch: 163/200. Classification loss: 0.38907. Regression loss: 1.59862. Total loss: 1.98769\n"
     ]
    },
    {
     "data": {
      "application/vnd.jupyter.widget-view+json": {
       "model_id": "8dce7ea63ed04298a3a4d62b171a50f7",
       "version_major": 2,
       "version_minor": 0
      },
      "text/plain": [
       "  0%|          | 0/188 [00:00<?, ?it/s]"
      ]
     },
     "metadata": {},
     "output_type": "display_data"
    },
    {
     "name": "stdout",
     "output_type": "stream",
     "text": [
      "checkpoint...\n",
      "checkpoint...\n",
      "Epoch   165: reducing learning rate of group 0 to 1.0000e-05.\n",
      "Val. Epoch: 164/200. Classification loss: 0.39730. Regression loss: 1.64185. Total loss: 2.03914\n"
     ]
    },
    {
     "data": {
      "application/vnd.jupyter.widget-view+json": {
       "model_id": "7026d08e21c6484b92f89b603d3b90d6",
       "version_major": 2,
       "version_minor": 0
      },
      "text/plain": [
       "  0%|          | 0/188 [00:00<?, ?it/s]"
      ]
     },
     "metadata": {},
     "output_type": "display_data"
    },
    {
     "name": "stdout",
     "output_type": "stream",
     "text": [
      "checkpoint...\n",
      "checkpoint...\n",
      "Val. Epoch: 165/200. Classification loss: 0.39941. Regression loss: 1.63891. Total loss: 2.03832\n"
     ]
    },
    {
     "data": {
      "application/vnd.jupyter.widget-view+json": {
       "model_id": "743a1ce299514b0abf95569b687c2ee5",
       "version_major": 2,
       "version_minor": 0
      },
      "text/plain": [
       "  0%|          | 0/188 [00:00<?, ?it/s]"
      ]
     },
     "metadata": {},
     "output_type": "display_data"
    },
    {
     "name": "stdout",
     "output_type": "stream",
     "text": [
      "checkpoint...\n",
      "Val. Epoch: 166/200. Classification loss: 0.39124. Regression loss: 1.60772. Total loss: 1.99896\n"
     ]
    },
    {
     "data": {
      "application/vnd.jupyter.widget-view+json": {
       "model_id": "dfcb4c66e2bf412ead487f577d8daaa1",
       "version_major": 2,
       "version_minor": 0
      },
      "text/plain": [
       "  0%|          | 0/188 [00:00<?, ?it/s]"
      ]
     },
     "metadata": {},
     "output_type": "display_data"
    },
    {
     "name": "stdout",
     "output_type": "stream",
     "text": [
      "checkpoint...\n",
      "checkpoint...\n",
      "Val. Epoch: 167/200. Classification loss: 0.39747. Regression loss: 1.63712. Total loss: 2.03459\n"
     ]
    },
    {
     "data": {
      "application/vnd.jupyter.widget-view+json": {
       "model_id": "0fe4019ce90c413e93b464f1430dfc02",
       "version_major": 2,
       "version_minor": 0
      },
      "text/plain": [
       "  0%|          | 0/188 [00:00<?, ?it/s]"
      ]
     },
     "metadata": {},
     "output_type": "display_data"
    },
    {
     "name": "stdout",
     "output_type": "stream",
     "text": [
      "checkpoint...\n",
      "checkpoint...\n",
      "Val. Epoch: 168/200. Classification loss: 0.39437. Regression loss: 1.63346. Total loss: 2.02783\n"
     ]
    },
    {
     "data": {
      "application/vnd.jupyter.widget-view+json": {
       "model_id": "eb42e297ba964173a1823a2cead607d9",
       "version_major": 2,
       "version_minor": 0
      },
      "text/plain": [
       "  0%|          | 0/188 [00:00<?, ?it/s]"
      ]
     },
     "metadata": {},
     "output_type": "display_data"
    },
    {
     "name": "stdout",
     "output_type": "stream",
     "text": [
      "checkpoint...\n",
      "checkpoint...\n",
      "Val. Epoch: 169/200. Classification loss: 0.39660. Regression loss: 1.62222. Total loss: 2.01882\n"
     ]
    },
    {
     "data": {
      "application/vnd.jupyter.widget-view+json": {
       "model_id": "45a803010dd845d389ef2b6aff3fe023",
       "version_major": 2,
       "version_minor": 0
      },
      "text/plain": [
       "  0%|          | 0/188 [00:00<?, ?it/s]"
      ]
     },
     "metadata": {},
     "output_type": "display_data"
    },
    {
     "name": "stdout",
     "output_type": "stream",
     "text": [
      "checkpoint...\n",
      "checkpoint...\n",
      "Val. Epoch: 170/200. Classification loss: 0.39209. Regression loss: 1.60005. Total loss: 1.99214\n"
     ]
    },
    {
     "data": {
      "application/vnd.jupyter.widget-view+json": {
       "model_id": "1ee80c28a72e49dd9e16854681bf8b4f",
       "version_major": 2,
       "version_minor": 0
      },
      "text/plain": [
       "  0%|          | 0/188 [00:00<?, ?it/s]"
      ]
     },
     "metadata": {},
     "output_type": "display_data"
    },
    {
     "name": "stdout",
     "output_type": "stream",
     "text": [
      "checkpoint...\n",
      "checkpoint...\n",
      "Val. Epoch: 171/200. Classification loss: 0.39192. Regression loss: 1.60839. Total loss: 2.00031\n"
     ]
    },
    {
     "data": {
      "application/vnd.jupyter.widget-view+json": {
       "model_id": "ab3df9dc1b5d4737b0011bf4c2b39a5e",
       "version_major": 2,
       "version_minor": 0
      },
      "text/plain": [
       "  0%|          | 0/188 [00:00<?, ?it/s]"
      ]
     },
     "metadata": {},
     "output_type": "display_data"
    },
    {
     "name": "stdout",
     "output_type": "stream",
     "text": [
      "checkpoint...\n",
      "checkpoint...\n",
      "Val. Epoch: 172/200. Classification loss: 0.39155. Regression loss: 1.60458. Total loss: 1.99613\n"
     ]
    },
    {
     "data": {
      "application/vnd.jupyter.widget-view+json": {
       "model_id": "6bf512f8f16d4e1eaebb924a9a191698",
       "version_major": 2,
       "version_minor": 0
      },
      "text/plain": [
       "  0%|          | 0/188 [00:00<?, ?it/s]"
      ]
     },
     "metadata": {},
     "output_type": "display_data"
    },
    {
     "name": "stdout",
     "output_type": "stream",
     "text": [
      "checkpoint...\n",
      "checkpoint...\n",
      "Val. Epoch: 173/200. Classification loss: 0.39803. Regression loss: 1.63325. Total loss: 2.03128\n"
     ]
    },
    {
     "data": {
      "application/vnd.jupyter.widget-view+json": {
       "model_id": "0b8859f62f0844ac91aab8102474f7fb",
       "version_major": 2,
       "version_minor": 0
      },
      "text/plain": [
       "  0%|          | 0/188 [00:00<?, ?it/s]"
      ]
     },
     "metadata": {},
     "output_type": "display_data"
    },
    {
     "name": "stdout",
     "output_type": "stream",
     "text": [
      "checkpoint...\n",
      "checkpoint...\n",
      "Val. Epoch: 174/200. Classification loss: 0.39411. Regression loss: 1.62168. Total loss: 2.01580\n"
     ]
    },
    {
     "data": {
      "application/vnd.jupyter.widget-view+json": {
       "model_id": "a3aca4325bf64d64af991bd6caeaf618",
       "version_major": 2,
       "version_minor": 0
      },
      "text/plain": [
       "  0%|          | 0/188 [00:00<?, ?it/s]"
      ]
     },
     "metadata": {},
     "output_type": "display_data"
    },
    {
     "name": "stdout",
     "output_type": "stream",
     "text": [
      "checkpoint...\n",
      "Val. Epoch: 175/200. Classification loss: 0.38996. Regression loss: 1.59912. Total loss: 1.98908\n"
     ]
    },
    {
     "data": {
      "application/vnd.jupyter.widget-view+json": {
       "model_id": "2471f7331e8a467f82d482448d62b7e8",
       "version_major": 2,
       "version_minor": 0
      },
      "text/plain": [
       "  0%|          | 0/188 [00:00<?, ?it/s]"
      ]
     },
     "metadata": {},
     "output_type": "display_data"
    },
    {
     "name": "stdout",
     "output_type": "stream",
     "text": [
      "checkpoint...\n",
      "checkpoint...\n",
      "Val. Epoch: 176/200. Classification loss: 0.38846. Regression loss: 1.57885. Total loss: 1.96731\n"
     ]
    },
    {
     "data": {
      "application/vnd.jupyter.widget-view+json": {
       "model_id": "f869c6ba500a42d9970d855daadcdd70",
       "version_major": 2,
       "version_minor": 0
      },
      "text/plain": [
       "  0%|          | 0/188 [00:00<?, ?it/s]"
      ]
     },
     "metadata": {},
     "output_type": "display_data"
    },
    {
     "name": "stdout",
     "output_type": "stream",
     "text": [
      "checkpoint...\n",
      "checkpoint...\n",
      "Val. Epoch: 177/200. Classification loss: 0.39578. Regression loss: 1.60298. Total loss: 1.99875\n"
     ]
    },
    {
     "data": {
      "application/vnd.jupyter.widget-view+json": {
       "model_id": "58c70f545ed847af9a90569943d66cf2",
       "version_major": 2,
       "version_minor": 0
      },
      "text/plain": [
       "  0%|          | 0/188 [00:00<?, ?it/s]"
      ]
     },
     "metadata": {},
     "output_type": "display_data"
    },
    {
     "name": "stdout",
     "output_type": "stream",
     "text": [
      "checkpoint...\n",
      "checkpoint...\n",
      "Val. Epoch: 178/200. Classification loss: 0.40464. Regression loss: 1.63995. Total loss: 2.04459\n"
     ]
    },
    {
     "data": {
      "application/vnd.jupyter.widget-view+json": {
       "model_id": "294827bb5dbe4eaba261008f4acfe40b",
       "version_major": 2,
       "version_minor": 0
      },
      "text/plain": [
       "  0%|          | 0/188 [00:00<?, ?it/s]"
      ]
     },
     "metadata": {},
     "output_type": "display_data"
    },
    {
     "name": "stdout",
     "output_type": "stream",
     "text": [
      "checkpoint...\n",
      "checkpoint...\n",
      "Val. Epoch: 179/200. Classification loss: 0.39592. Regression loss: 1.60879. Total loss: 2.00471\n"
     ]
    },
    {
     "data": {
      "application/vnd.jupyter.widget-view+json": {
       "model_id": "45147d665a87408a8627e37a10cd2e4d",
       "version_major": 2,
       "version_minor": 0
      },
      "text/plain": [
       "  0%|          | 0/188 [00:00<?, ?it/s]"
      ]
     },
     "metadata": {},
     "output_type": "display_data"
    },
    {
     "name": "stdout",
     "output_type": "stream",
     "text": [
      "checkpoint...\n",
      "checkpoint...\n",
      "Val. Epoch: 180/200. Classification loss: 0.40277. Regression loss: 1.64581. Total loss: 2.04858\n"
     ]
    },
    {
     "data": {
      "application/vnd.jupyter.widget-view+json": {
       "model_id": "74d3056fe9b54c42aea472d4aa59586e",
       "version_major": 2,
       "version_minor": 0
      },
      "text/plain": [
       "  0%|          | 0/188 [00:00<?, ?it/s]"
      ]
     },
     "metadata": {},
     "output_type": "display_data"
    },
    {
     "name": "stdout",
     "output_type": "stream",
     "text": [
      "checkpoint...\n",
      "checkpoint...\n",
      "Val. Epoch: 181/200. Classification loss: 0.39550. Regression loss: 1.60032. Total loss: 1.99582\n"
     ]
    },
    {
     "data": {
      "application/vnd.jupyter.widget-view+json": {
       "model_id": "8c55e99d8ae742349c4699f4c833a9d7",
       "version_major": 2,
       "version_minor": 0
      },
      "text/plain": [
       "  0%|          | 0/188 [00:00<?, ?it/s]"
      ]
     },
     "metadata": {},
     "output_type": "display_data"
    },
    {
     "name": "stdout",
     "output_type": "stream",
     "text": [
      "checkpoint...\n",
      "checkpoint...\n",
      "Val. Epoch: 182/200. Classification loss: 0.40468. Regression loss: 1.68099. Total loss: 2.08566\n"
     ]
    },
    {
     "data": {
      "application/vnd.jupyter.widget-view+json": {
       "model_id": "7729ee8ace814823a466f21da93cd21a",
       "version_major": 2,
       "version_minor": 0
      },
      "text/plain": [
       "  0%|          | 0/188 [00:00<?, ?it/s]"
      ]
     },
     "metadata": {},
     "output_type": "display_data"
    },
    {
     "name": "stdout",
     "output_type": "stream",
     "text": [
      "checkpoint...\n",
      "Epoch   184: reducing learning rate of group 0 to 1.0000e-06.\n",
      "Val. Epoch: 183/200. Classification loss: 0.39959. Regression loss: 1.62674. Total loss: 2.02633\n"
     ]
    },
    {
     "data": {
      "application/vnd.jupyter.widget-view+json": {
       "model_id": "bdd027962cb844d69ca8e671a87241fb",
       "version_major": 2,
       "version_minor": 0
      },
      "text/plain": [
       "  0%|          | 0/188 [00:00<?, ?it/s]"
      ]
     },
     "metadata": {},
     "output_type": "display_data"
    },
    {
     "name": "stdout",
     "output_type": "stream",
     "text": [
      "checkpoint...\n",
      "checkpoint...\n",
      "Val. Epoch: 184/200. Classification loss: 0.38904. Regression loss: 1.57979. Total loss: 1.96883\n"
     ]
    },
    {
     "data": {
      "application/vnd.jupyter.widget-view+json": {
       "model_id": "f4f4a421ebd64c6bbf4bb93dea6bfef5",
       "version_major": 2,
       "version_minor": 0
      },
      "text/plain": [
       "  0%|          | 0/188 [00:00<?, ?it/s]"
      ]
     },
     "metadata": {},
     "output_type": "display_data"
    },
    {
     "name": "stdout",
     "output_type": "stream",
     "text": [
      "checkpoint...\n",
      "checkpoint...\n",
      "Val. Epoch: 185/200. Classification loss: 0.39329. Regression loss: 1.59506. Total loss: 1.98835\n"
     ]
    },
    {
     "data": {
      "application/vnd.jupyter.widget-view+json": {
       "model_id": "0150b8f665b745da9fc12e4859c16788",
       "version_major": 2,
       "version_minor": 0
      },
      "text/plain": [
       "  0%|          | 0/188 [00:00<?, ?it/s]"
      ]
     },
     "metadata": {},
     "output_type": "display_data"
    },
    {
     "name": "stdout",
     "output_type": "stream",
     "text": [
      "checkpoint...\n",
      "checkpoint...\n",
      "Val. Epoch: 186/200. Classification loss: 0.39185. Regression loss: 1.59174. Total loss: 1.98359\n"
     ]
    },
    {
     "data": {
      "application/vnd.jupyter.widget-view+json": {
       "model_id": "4e5aa045d40145238e4c7bb997b08f81",
       "version_major": 2,
       "version_minor": 0
      },
      "text/plain": [
       "  0%|          | 0/188 [00:00<?, ?it/s]"
      ]
     },
     "metadata": {},
     "output_type": "display_data"
    },
    {
     "name": "stdout",
     "output_type": "stream",
     "text": [
      "checkpoint...\n",
      "checkpoint...\n",
      "Val. Epoch: 187/200. Classification loss: 0.39380. Regression loss: 1.60050. Total loss: 1.99429\n"
     ]
    },
    {
     "data": {
      "application/vnd.jupyter.widget-view+json": {
       "model_id": "24fe3659347a4cc292e3f9dfc91c5860",
       "version_major": 2,
       "version_minor": 0
      },
      "text/plain": [
       "  0%|          | 0/188 [00:00<?, ?it/s]"
      ]
     },
     "metadata": {},
     "output_type": "display_data"
    },
    {
     "name": "stdout",
     "output_type": "stream",
     "text": [
      "checkpoint...\n",
      "checkpoint...\n",
      "Val. Epoch: 188/200. Classification loss: 0.39313. Regression loss: 1.59569. Total loss: 1.98882\n"
     ]
    },
    {
     "data": {
      "application/vnd.jupyter.widget-view+json": {
       "model_id": "2459931802df4cc8892cefbc8c2ff7f6",
       "version_major": 2,
       "version_minor": 0
      },
      "text/plain": [
       "  0%|          | 0/188 [00:00<?, ?it/s]"
      ]
     },
     "metadata": {},
     "output_type": "display_data"
    },
    {
     "name": "stdout",
     "output_type": "stream",
     "text": [
      "checkpoint...\n",
      "checkpoint...\n",
      "Val. Epoch: 189/200. Classification loss: 0.39865. Regression loss: 1.61043. Total loss: 2.00908\n"
     ]
    },
    {
     "data": {
      "application/vnd.jupyter.widget-view+json": {
       "model_id": "c35657ac2a7d4605b1c5cb225b1ef8f2",
       "version_major": 2,
       "version_minor": 0
      },
      "text/plain": [
       "  0%|          | 0/188 [00:00<?, ?it/s]"
      ]
     },
     "metadata": {},
     "output_type": "display_data"
    },
    {
     "name": "stdout",
     "output_type": "stream",
     "text": [
      "checkpoint...\n",
      "checkpoint...\n",
      "Val. Epoch: 190/200. Classification loss: 0.38826. Regression loss: 1.57922. Total loss: 1.96747\n"
     ]
    },
    {
     "data": {
      "application/vnd.jupyter.widget-view+json": {
       "model_id": "b1099e034b3345de85fb60007969dce3",
       "version_major": 2,
       "version_minor": 0
      },
      "text/plain": [
       "  0%|          | 0/188 [00:00<?, ?it/s]"
      ]
     },
     "metadata": {},
     "output_type": "display_data"
    },
    {
     "name": "stdout",
     "output_type": "stream",
     "text": [
      "checkpoint...\n",
      "Val. Epoch: 191/200. Classification loss: 0.39567. Regression loss: 1.60971. Total loss: 2.00538\n"
     ]
    },
    {
     "data": {
      "application/vnd.jupyter.widget-view+json": {
       "model_id": "86baf8c807c14a72820731338815d32d",
       "version_major": 2,
       "version_minor": 0
      },
      "text/plain": [
       "  0%|          | 0/188 [00:00<?, ?it/s]"
      ]
     },
     "metadata": {},
     "output_type": "display_data"
    },
    {
     "name": "stdout",
     "output_type": "stream",
     "text": [
      "checkpoint...\n",
      "checkpoint...\n",
      "Val. Epoch: 192/200. Classification loss: 0.39901. Regression loss: 1.62592. Total loss: 2.02493\n"
     ]
    },
    {
     "data": {
      "application/vnd.jupyter.widget-view+json": {
       "model_id": "1c16d77aba44421fb196dad0b17b319b",
       "version_major": 2,
       "version_minor": 0
      },
      "text/plain": [
       "  0%|          | 0/188 [00:00<?, ?it/s]"
      ]
     },
     "metadata": {},
     "output_type": "display_data"
    },
    {
     "name": "stdout",
     "output_type": "stream",
     "text": [
      "checkpoint...\n",
      "checkpoint...\n",
      "Val. Epoch: 193/200. Classification loss: 0.39355. Regression loss: 1.59516. Total loss: 1.98872\n"
     ]
    },
    {
     "data": {
      "application/vnd.jupyter.widget-view+json": {
       "model_id": "7242959da4114fb18c512e2f37ab940e",
       "version_major": 2,
       "version_minor": 0
      },
      "text/plain": [
       "  0%|          | 0/188 [00:00<?, ?it/s]"
      ]
     },
     "metadata": {},
     "output_type": "display_data"
    },
    {
     "name": "stdout",
     "output_type": "stream",
     "text": [
      "checkpoint...\n",
      "checkpoint...\n",
      "Val. Epoch: 194/200. Classification loss: 0.38863. Regression loss: 1.57950. Total loss: 1.96813\n"
     ]
    },
    {
     "data": {
      "application/vnd.jupyter.widget-view+json": {
       "model_id": "e3c5ce5ff8ee482c92faa6e0cf570941",
       "version_major": 2,
       "version_minor": 0
      },
      "text/plain": [
       "  0%|          | 0/188 [00:00<?, ?it/s]"
      ]
     },
     "metadata": {},
     "output_type": "display_data"
    },
    {
     "name": "stdout",
     "output_type": "stream",
     "text": [
      "checkpoint...\n",
      "checkpoint...\n",
      "Epoch   196: reducing learning rate of group 0 to 1.0000e-07.\n",
      "Val. Epoch: 195/200. Classification loss: 0.38838. Regression loss: 1.57790. Total loss: 1.96628\n"
     ]
    },
    {
     "data": {
      "application/vnd.jupyter.widget-view+json": {
       "model_id": "278d7f773309484bab31dba4bf193598",
       "version_major": 2,
       "version_minor": 0
      },
      "text/plain": [
       "  0%|          | 0/188 [00:00<?, ?it/s]"
      ]
     },
     "metadata": {},
     "output_type": "display_data"
    },
    {
     "name": "stdout",
     "output_type": "stream",
     "text": [
      "checkpoint...\n",
      "checkpoint...\n",
      "Val. Epoch: 196/200. Classification loss: 0.38908. Regression loss: 1.57879. Total loss: 1.96787\n"
     ]
    },
    {
     "data": {
      "application/vnd.jupyter.widget-view+json": {
       "model_id": "98c6bdb421fa49bcad700a94bdf1b205",
       "version_major": 2,
       "version_minor": 0
      },
      "text/plain": [
       "  0%|          | 0/188 [00:00<?, ?it/s]"
      ]
     },
     "metadata": {},
     "output_type": "display_data"
    },
    {
     "name": "stdout",
     "output_type": "stream",
     "text": [
      "checkpoint...\n",
      "checkpoint...\n",
      "Val. Epoch: 197/200. Classification loss: 0.39438. Regression loss: 1.60346. Total loss: 1.99784\n"
     ]
    },
    {
     "data": {
      "application/vnd.jupyter.widget-view+json": {
       "model_id": "02e3edfa5bfe48b0b813570b39eb47ed",
       "version_major": 2,
       "version_minor": 0
      },
      "text/plain": [
       "  0%|          | 0/188 [00:00<?, ?it/s]"
      ]
     },
     "metadata": {},
     "output_type": "display_data"
    },
    {
     "name": "stdout",
     "output_type": "stream",
     "text": [
      "checkpoint...\n",
      "checkpoint...\n",
      "Val. Epoch: 198/200. Classification loss: 0.39492. Regression loss: 1.60111. Total loss: 1.99603\n"
     ]
    },
    {
     "data": {
      "application/vnd.jupyter.widget-view+json": {
       "model_id": "3857b8ec29394de2b5e2fe656f1c0927",
       "version_major": 2,
       "version_minor": 0
      },
      "text/plain": [
       "  0%|          | 0/188 [00:00<?, ?it/s]"
      ]
     },
     "metadata": {},
     "output_type": "display_data"
    },
    {
     "name": "stdout",
     "output_type": "stream",
     "text": [
      "checkpoint...\n",
      "checkpoint...\n",
      "Epoch   200: reducing learning rate of group 0 to 1.0000e-08.\n",
      "Val. Epoch: 199/200. Classification loss: 0.39908. Regression loss: 1.62162. Total loss: 2.02070\n"
     ]
    }
   ],
   "source": [
    "def train(opt):\n",
    "    params = Params(f'projects/{opt.project}.yml')\n",
    "\n",
    "    if params.num_gpus == 0:\n",
    "        os.environ['CUDA_VISIBLE_DEVICES'] = '-1'\n",
    "\n",
    "    if torch.cuda.is_available():\n",
    "        torch.cuda.manual_seed(42)\n",
    "    else:\n",
    "        torch.manual_seed(42)\n",
    "    \n",
    "    GPU_NUM = 2 # 원하는 GPU 번호 입력\n",
    "    device = torch.device(f'cuda:{GPU_NUM}' if torch.cuda.is_available() else 'cpu')\n",
    "    torch.cuda.set_device(device) # change allocation of current GPU\n",
    "    print ('Current cuda device ', torch.cuda.current_device()) # check\n",
    "    # Additional Infos\n",
    "    if device.type == 'cuda':\n",
    "        print(torch.cuda.get_device_name(GPU_NUM))\n",
    "        print('Memory Usage:')\n",
    "        print('Allocated:', round(torch.cuda.memory_allocated(GPU_NUM)/1024**3,1), 'GB')\n",
    "        print('Cached:   ', round(torch.cuda.memory_cached(GPU_NUM)/1024**3,1), 'GB')\n",
    "    \n",
    "    \n",
    "    opt.saved_path = opt.saved_path + f'/{params.project_name}/'\n",
    "    opt.log_path = opt.log_path + f'/{params.project_name}/tensorboard/'\n",
    "    os.makedirs(opt.log_path, exist_ok=True)\n",
    "    os.makedirs(opt.saved_path, exist_ok=True)\n",
    "\n",
    "    training_params = {'batch_size': opt.batch_size,\n",
    "                       'shuffle': True,\n",
    "                       'drop_last': True,\n",
    "                       'collate_fn': collater,\n",
    "                       'num_workers': opt.num_workers}\n",
    "\n",
    "    val_params = {'batch_size': opt.batch_size,\n",
    "                  'shuffle': False,\n",
    "                  'drop_last': True,\n",
    "                  'collate_fn': collater,\n",
    "                  'num_workers': opt.num_workers}\n",
    "\n",
    "    input_sizes = [512, 640, 768, 896, 1024, 1280, 1280, 1536, 1536]\n",
    "    \n",
    "    \n",
    "    \n",
    "    ds = BrainDataset(ann, transform=Resizer())\n",
    "\n",
    "    train_ds, validation_ds  = torch.utils.data.random_split(ds, [6000, 1285], generator=torch.Generator().manual_seed(40))\n",
    "\n",
    "    training_generator = DataLoader(train_ds,\n",
    "                              batch_size=32,\n",
    "                              num_workers=4,\n",
    "                              shuffle=True,\n",
    "                              collate_fn = collater)\n",
    "\n",
    "    val_generator = DataLoader(validation_ds,\n",
    "                                   batch_size=32,\n",
    "                                   num_workers=4,\n",
    "                                   shuffle=True,\n",
    "                                   collate_fn = collater)\n",
    "    \n",
    "    model = EfficientDetBackbone(num_classes=len(params.obj_list), compound_coef=opt.compound_coef,\n",
    "                                 ratios=eval(params.anchors_ratios), scales=eval(params.anchors_scales))\n",
    "    # load last weights\n",
    "    if opt.load_weights is not None:\n",
    "        if opt.load_weights.endswith('.pth'):\n",
    "            weights_path = opt.load_weights\n",
    "        else:\n",
    "            weights_path = get_last_weights(opt.saved_path)\n",
    "        try:\n",
    "            last_step = int(os.path.basename(weights_path).split('_')[-1].split('.')[0])\n",
    "        except:\n",
    "            last_step = 0\n",
    "\n",
    "        try:\n",
    "            ret = model.load_state_dict(torch.load(weights_path), strict=False)\n",
    "        except RuntimeError as e:\n",
    "            print(f'[Warning] Ignoring {e}')\n",
    "            print(\n",
    "                '[Warning] Don\\'t panic if you see this, this might be because you load a pretrained weights with different number of classes. The rest of the weights should be loaded already.')\n",
    "\n",
    "        print(f'[Info] loaded weights: {os.path.basename(weights_path)}, resuming checkpoint from step: {last_step}')\n",
    "    else:\n",
    "        last_step = 0\n",
    "        print('[Info] initializing weights...')\n",
    "        init_weights(model)\n",
    "\n",
    "    # freeze backbone if train head_only\n",
    "    if opt.head_only:\n",
    "        def freeze_backbone(m):\n",
    "            classname = m.__class__.__name__\n",
    "            for ntl in ['EfficientNet', 'BiFPN']:\n",
    "                if ntl in classname:\n",
    "                    for param in m.parameters():\n",
    "                        param.requires_grad = False\n",
    "\n",
    "        model.apply(freeze_backbone)\n",
    "        print('[Info] freezed backbone')\n",
    "\n",
    "    # https://github.com/vacancy/Synchronized-BatchNorm-PyTorch\n",
    "    # apply sync_bn when using multiple gpu and batch_size per gpu is lower than 4\n",
    "    #  useful when gpu memory is limited.\n",
    "    # because when bn is disable, the training will be very unstable or slow to converge,\n",
    "    # apply sync_bn can solve it,\n",
    "    # by packing all mini-batch across all gpus as one batch and normalize, then send it back to all gpus.\n",
    "    # but it would also slow down the training by a little bit.\n",
    "    if params.num_gpus > 1 and opt.batch_size // params.num_gpus < 4:\n",
    "        model.apply(replace_w_sync_bn)\n",
    "        use_sync_bn = True\n",
    "    else:\n",
    "        use_sync_bn = False\n",
    "\n",
    "    writer = SummaryWriter(opt.log_path + f'/{datetime.datetime.now().strftime(\"%Y%m%d-%H%M%S\")}/')\n",
    "\n",
    "    # warp the model with loss function, to reduce the memory usage on gpu0 and speedup\n",
    "    model = ModelWithLoss(model, debug=opt.debug)\n",
    "\n",
    "    if params.num_gpus > 0:\n",
    "        model = model.cuda()\n",
    "        if params.num_gpus > 1:\n",
    "            model = CustomDataParallel(model, params.num_gpus)\n",
    "            if use_sync_bn:\n",
    "                patch_replication_callback(model)\n",
    "\n",
    "    if opt.optim == 'adamw':\n",
    "        optimizer = torch.optim.AdamW(model.parameters(), opt.lr)\n",
    "    else:\n",
    "        optimizer = torch.optim.SGD(model.parameters(), opt.lr, momentum=0.9, nesterov=True)\n",
    "\n",
    "    scheduler = torch.optim.lr_scheduler.ReduceLROnPlateau(optimizer, patience=3, verbose=True)\n",
    "\n",
    "    epoch = 0\n",
    "    best_loss = 1e5\n",
    "    best_epoch = 0\n",
    "    step = max(0, last_step)\n",
    "    model.train()\n",
    "\n",
    "    num_iter_per_epoch = len(training_generator)\n",
    "\n",
    "    try:\n",
    "        for epoch in range(opt.num_epochs):\n",
    "            last_epoch = step // num_iter_per_epoch\n",
    "            if epoch < last_epoch:\n",
    "                continue\n",
    "\n",
    "            epoch_loss = []\n",
    "            progress_bar = tqdm(training_generator)\n",
    "            for iter, data in enumerate(progress_bar):\n",
    "                if iter < step - last_epoch * num_iter_per_epoch:\n",
    "                    progress_bar.update()\n",
    "                    continue\n",
    "                try:\n",
    "                    imgs = data['img']\n",
    "                    annot = data['annot']\n",
    "\n",
    "                    if params.num_gpus == 1:\n",
    "                        # if only one gpu, just send it to cuda:0\n",
    "                        # elif multiple gpus, send it to multiple gpus in CustomDataParallel, not here\n",
    "                        imgs = imgs.cuda()\n",
    "                        annot = annot.cuda()\n",
    "\n",
    "                    optimizer.zero_grad()\n",
    "                    cls_loss, reg_loss = model(imgs, annot, obj_list=params.obj_list)\n",
    "                    cls_loss = cls_loss.mean()\n",
    "                    reg_loss = reg_loss.mean()\n",
    "\n",
    "                    loss = cls_loss + reg_loss\n",
    "                    if loss == 0 or not torch.isfinite(loss):\n",
    "                        continue\n",
    "\n",
    "                    loss.backward()\n",
    "                    # torch.nn.utils.clip_grad_norm_(model.parameters(), 0.1)\n",
    "                    optimizer.step()\n",
    "\n",
    "                    epoch_loss.append(float(loss))\n",
    "\n",
    "                    progress_bar.set_description(\n",
    "                        'Step: {}. Epoch: {}/{}. Iteration: {}/{}. Cls loss: {:.5f}. Reg loss: {:.5f}. Total loss: {:.5f}'.format(\n",
    "                            step, epoch, opt.num_epochs, iter + 1, num_iter_per_epoch, cls_loss.item(),\n",
    "                            reg_loss.item(), loss.item()))\n",
    "                    writer.add_scalars('Loss', {'train': loss}, step)\n",
    "                    writer.add_scalars('Regression_loss', {'train': reg_loss}, step)\n",
    "                    writer.add_scalars('Classfication_loss', {'train': cls_loss}, step)\n",
    "\n",
    "                    # log learning_rate\n",
    "                    current_lr = optimizer.param_groups[0]['lr']\n",
    "                    writer.add_scalar('learning_rate', current_lr, step)\n",
    "\n",
    "                    step += 1\n",
    "\n",
    "                    if step % opt.save_interval == 0 and step > 0:\n",
    "                        save_checkpoint(model, f'efficientdet-d{opt.compound_coef}_{epoch}_{step}.pth')\n",
    "                        print('checkpoint...')\n",
    "\n",
    "                except Exception as e:\n",
    "                    print('[Error]', traceback.format_exc())\n",
    "                    print(e)\n",
    "                    continue\n",
    "            scheduler.step(np.mean(epoch_loss))\n",
    "\n",
    "            if epoch % opt.val_interval == 0:\n",
    "                model.eval()\n",
    "                loss_regression_ls = []\n",
    "                loss_classification_ls = []\n",
    "                for iter, data in enumerate(val_generator):\n",
    "                    with torch.no_grad():\n",
    "                        imgs = data['img']\n",
    "                        annot = data['annot']\n",
    "\n",
    "                        if params.num_gpus == 1:\n",
    "                            imgs = imgs.cuda()\n",
    "                            annot = annot.cuda()\n",
    "\n",
    "                        cls_loss, reg_loss = model(imgs, annot, obj_list=params.obj_list)\n",
    "                        cls_loss = cls_loss.mean()\n",
    "                        reg_loss = reg_loss.mean()\n",
    "\n",
    "                        loss = cls_loss + reg_loss\n",
    "                        if loss == 0 or not torch.isfinite(loss):\n",
    "                            continue\n",
    "\n",
    "                        loss_classification_ls.append(cls_loss.item())\n",
    "                        loss_regression_ls.append(reg_loss.item())\n",
    "\n",
    "                cls_loss = np.mean(loss_classification_ls)\n",
    "                reg_loss = np.mean(loss_regression_ls)\n",
    "                loss = cls_loss + reg_loss\n",
    "\n",
    "                print(\n",
    "                    'Val. Epoch: {}/{}. Classification loss: {:1.5f}. Regression loss: {:1.5f}. Total loss: {:1.5f}'.format(\n",
    "                        epoch, opt.num_epochs, cls_loss, reg_loss, loss))\n",
    "                writer.add_scalars('Loss', {'val': loss}, step)\n",
    "                writer.add_scalars('Regression_loss', {'val': reg_loss}, step)\n",
    "                writer.add_scalars('Classfication_loss', {'val': cls_loss}, step)\n",
    "\n",
    "                if loss + opt.es_min_delta < best_loss:\n",
    "                    best_loss = loss\n",
    "                    best_epoch = epoch\n",
    "\n",
    "                    save_checkpoint(model, f'efficientdet-d{opt.compound_coef}_{epoch}_{step}.pth')\n",
    "\n",
    "                model.train()\n",
    "\n",
    "                # Early stopping\n",
    "                if epoch - best_epoch > opt.es_patience > 0:\n",
    "                    print('[Info] Stop training at epoch {}. The lowest loss achieved is {}'.format(epoch, best_loss))\n",
    "                    break\n",
    "    except KeyboardInterrupt:\n",
    "        save_checkpoint(model, f'efficientdet-d{opt.compound_coef}_{epoch}_{step}.pth')\n",
    "        writer.close()\n",
    "    writer.close()\n",
    "\n",
    "\n",
    "def save_checkpoint(model, name):\n",
    "    if isinstance(model, CustomDataParallel):\n",
    "        torch.save(model.module.model.state_dict(), os.path.join(opt.saved_path, name))\n",
    "    else:\n",
    "        torch.save(model.model.state_dict(), os.path.join(opt.saved_path, name))\n",
    "\n",
    "\n",
    "if __name__ == '__main__':\n",
    "    opt = get_args()\n",
    "    train(opt)\n"
   ]
  },
  {
   "cell_type": "code",
   "execution_count": null,
   "id": "0ffddfac",
   "metadata": {},
   "outputs": [],
   "source": []
  },
  {
   "cell_type": "code",
   "execution_count": null,
   "id": "de35d707",
   "metadata": {},
   "outputs": [],
   "source": []
  },
  {
   "cell_type": "code",
   "execution_count": null,
   "id": "d2931818",
   "metadata": {},
   "outputs": [],
   "source": []
  },
  {
   "cell_type": "code",
   "execution_count": null,
   "id": "9130f89a",
   "metadata": {},
   "outputs": [],
   "source": []
  },
  {
   "cell_type": "code",
   "execution_count": 41,
   "id": "487a4581",
   "metadata": {},
   "outputs": [],
   "source": [
    "def multibox_prior(data, sizes, ratios): \n",
    "    in_height, in_width = data.shape[-2:] # 이미지 높이와 너비 \n",
    "    device, num_sizes, num_ratios = data.device, len(sizes), len(ratios) \n",
    "\n",
    "    boxes_per_pixel = (num_sizes + num_ratios - 1) \n",
    "    size_tensor = torch.tensor(sizes, device=device) \n",
    "    ratio_tensor = torch.tensor(ratios, device=device) \n",
    "\n",
    "    # 앵커를 픽셀 중앙으로 이동하려면 오프셋이 필요합니다. \n",
    "    # 픽셀 (height = 1, width = 1)이므로 중심을 0.5만큼 오프셋하도록 선택합니다.\n",
    "    offset_h, offset_w = 0.5, 0.5 \n",
    "    steps_h = 1.0 / in_height # y 축의 스케일 단계 \n",
    "    steps_w = 1.0 / in_width # x 축의 스케일 단계 # 앵커 박스의 모든 중심점 생성 \n",
    "\n",
    "    center_h = (torch.arange(in_height, device=device) + offset_h) * steps_h \n",
    "    center_w = (torch.arange(in_width, device=device) + offset_w) * steps_w \n",
    "    shift_y, shift_x = torch.meshgrid(center_h, center_w) \n",
    "    shift_y, shift_x = shift_y.reshape(-1), shift_x.reshape(-1) \n",
    "\n",
    "    # 각 중심점에는 box_per_pixel 개수의 앵커 상자가 있으므로 \n",
    "\n",
    "    # box_per_pixel 반복으로 모든 앵커 박스 중심의 그리드 생성 \n",
    "    out_grid = torch.stack([shift_x, shift_y, shift_x, shift_y], dim=1).repeat_interleave(boxes_per_pixel, dim=0) \n",
    "\n",
    "    # 이후의 높이와 너비의 box_per_pixel 수 생성 # 앵커 상자 모서리 좌표 (xmin, xmax, ymin, ymax)를 만드는 데 사용됩니다. \n",
    "    w = torch.cat((size_tensor, sizes[0] * torch.sqrt(ratio_tensor[1:]))) * in_height / in_width / 2 \n",
    "    h = torch.cat((size_tensor, sizes[0] / torch.sqrt(ratio_tensor[1:]))) / 2 \n",
    "\n",
    "    anchor_manipulations = torch.stack((-w, -h, w, h)).T.repeat( in_height * in_width, 1) \n",
    "    output = out_grid + anchor_manipulations \n",
    "    return output.unsqueeze(0)\n",
    "\n"
   ]
  },
  {
   "cell_type": "code",
   "execution_count": 58,
   "id": "fbd2fadc",
   "metadata": {},
   "outputs": [
    {
     "data": {
      "text/plain": [
       "(512, 512)"
      ]
     },
     "execution_count": 58,
     "metadata": {},
     "output_type": "execute_result"
    }
   ],
   "source": [
    "X = torch.rand(size=(1, 3, 512, 512)) # Construct input data \n",
    "Y = multibox_prior(X, sizes=[0.75, 0.5, 0.25], ratios=[1, 2, 0.5])\n",
    "\n",
    "(1,3,512,512)[-2:]"
   ]
  },
  {
   "cell_type": "code",
   "execution_count": 49,
   "id": "33ff24f8",
   "metadata": {
    "scrolled": true,
    "tags": []
   },
   "outputs": [
    {
     "data": {
      "text/plain": [
       "tensor([[[[-0.3740, -0.3740,  0.3760,  0.3760],\n",
       "          [-0.2490, -0.2490,  0.2510,  0.2510],\n",
       "          [-0.1240, -0.1240,  0.1260,  0.1260],\n",
       "          [-0.5294, -0.2642,  0.5313,  0.2661],\n",
       "          [-0.2642, -0.5294,  0.2661,  0.5313]],\n",
       "\n",
       "         [[-0.3721, -0.3740,  0.3779,  0.3760],\n",
       "          [-0.2471, -0.2490,  0.2529,  0.2510],\n",
       "          [-0.1221, -0.1240,  0.1279,  0.1260],\n",
       "          [-0.5274, -0.2642,  0.5333,  0.2661],\n",
       "          [-0.2622, -0.5294,  0.2681,  0.5313]],\n",
       "\n",
       "         [[-0.3701, -0.3740,  0.3799,  0.3760],\n",
       "          [-0.2451, -0.2490,  0.2549,  0.2510],\n",
       "          [-0.1201, -0.1240,  0.1299,  0.1260],\n",
       "          [-0.5254, -0.2642,  0.5352,  0.2661],\n",
       "          [-0.2603, -0.5294,  0.2700,  0.5313]],\n",
       "\n",
       "         ...,\n",
       "\n",
       "         [[ 0.6201, -0.3740,  1.3701,  0.3760],\n",
       "          [ 0.7451, -0.2490,  1.2451,  0.2510],\n",
       "          [ 0.8701, -0.1240,  1.1201,  0.1260],\n",
       "          [ 0.4648, -0.2642,  1.5254,  0.2661],\n",
       "          [ 0.7300, -0.5294,  1.2603,  0.5313]],\n",
       "\n",
       "         [[ 0.6221, -0.3740,  1.3721,  0.3760],\n",
       "          [ 0.7471, -0.2490,  1.2471,  0.2510],\n",
       "          [ 0.8721, -0.1240,  1.1221,  0.1260],\n",
       "          [ 0.4667, -0.2642,  1.5274,  0.2661],\n",
       "          [ 0.7319, -0.5294,  1.2622,  0.5313]],\n",
       "\n",
       "         [[ 0.6240, -0.3740,  1.3740,  0.3760],\n",
       "          [ 0.7490, -0.2490,  1.2490,  0.2510],\n",
       "          [ 0.8740, -0.1240,  1.1240,  0.1260],\n",
       "          [ 0.4687, -0.2642,  1.5294,  0.2661],\n",
       "          [ 0.7339, -0.5294,  1.2642,  0.5313]]],\n",
       "\n",
       "\n",
       "        [[[-0.3740, -0.3721,  0.3760,  0.3779],\n",
       "          [-0.2490, -0.2471,  0.2510,  0.2529],\n",
       "          [-0.1240, -0.1221,  0.1260,  0.1279],\n",
       "          [-0.5294, -0.2622,  0.5313,  0.2681],\n",
       "          [-0.2642, -0.5274,  0.2661,  0.5333]],\n",
       "\n",
       "         [[-0.3721, -0.3721,  0.3779,  0.3779],\n",
       "          [-0.2471, -0.2471,  0.2529,  0.2529],\n",
       "          [-0.1221, -0.1221,  0.1279,  0.1279],\n",
       "          [-0.5274, -0.2622,  0.5333,  0.2681],\n",
       "          [-0.2622, -0.5274,  0.2681,  0.5333]],\n",
       "\n",
       "         [[-0.3701, -0.3721,  0.3799,  0.3779],\n",
       "          [-0.2451, -0.2471,  0.2549,  0.2529],\n",
       "          [-0.1201, -0.1221,  0.1299,  0.1279],\n",
       "          [-0.5254, -0.2622,  0.5352,  0.2681],\n",
       "          [-0.2603, -0.5274,  0.2700,  0.5333]],\n",
       "\n",
       "         ...,\n",
       "\n",
       "         [[ 0.6201, -0.3721,  1.3701,  0.3779],\n",
       "          [ 0.7451, -0.2471,  1.2451,  0.2529],\n",
       "          [ 0.8701, -0.1221,  1.1201,  0.1279],\n",
       "          [ 0.4648, -0.2622,  1.5254,  0.2681],\n",
       "          [ 0.7300, -0.5274,  1.2603,  0.5333]],\n",
       "\n",
       "         [[ 0.6221, -0.3721,  1.3721,  0.3779],\n",
       "          [ 0.7471, -0.2471,  1.2471,  0.2529],\n",
       "          [ 0.8721, -0.1221,  1.1221,  0.1279],\n",
       "          [ 0.4667, -0.2622,  1.5274,  0.2681],\n",
       "          [ 0.7319, -0.5274,  1.2622,  0.5333]],\n",
       "\n",
       "         [[ 0.6240, -0.3721,  1.3740,  0.3779],\n",
       "          [ 0.7490, -0.2471,  1.2490,  0.2529],\n",
       "          [ 0.8740, -0.1221,  1.1240,  0.1279],\n",
       "          [ 0.4687, -0.2622,  1.5294,  0.2681],\n",
       "          [ 0.7339, -0.5274,  1.2642,  0.5333]]],\n",
       "\n",
       "\n",
       "        [[[-0.3740, -0.3701,  0.3760,  0.3799],\n",
       "          [-0.2490, -0.2451,  0.2510,  0.2549],\n",
       "          [-0.1240, -0.1201,  0.1260,  0.1299],\n",
       "          [-0.5294, -0.2603,  0.5313,  0.2700],\n",
       "          [-0.2642, -0.5254,  0.2661,  0.5352]],\n",
       "\n",
       "         [[-0.3721, -0.3701,  0.3779,  0.3799],\n",
       "          [-0.2471, -0.2451,  0.2529,  0.2549],\n",
       "          [-0.1221, -0.1201,  0.1279,  0.1299],\n",
       "          [-0.5274, -0.2603,  0.5333,  0.2700],\n",
       "          [-0.2622, -0.5254,  0.2681,  0.5352]],\n",
       "\n",
       "         [[-0.3701, -0.3701,  0.3799,  0.3799],\n",
       "          [-0.2451, -0.2451,  0.2549,  0.2549],\n",
       "          [-0.1201, -0.1201,  0.1299,  0.1299],\n",
       "          [-0.5254, -0.2603,  0.5352,  0.2700],\n",
       "          [-0.2603, -0.5254,  0.2700,  0.5352]],\n",
       "\n",
       "         ...,\n",
       "\n",
       "         [[ 0.6201, -0.3701,  1.3701,  0.3799],\n",
       "          [ 0.7451, -0.2451,  1.2451,  0.2549],\n",
       "          [ 0.8701, -0.1201,  1.1201,  0.1299],\n",
       "          [ 0.4648, -0.2603,  1.5254,  0.2700],\n",
       "          [ 0.7300, -0.5254,  1.2603,  0.5352]],\n",
       "\n",
       "         [[ 0.6221, -0.3701,  1.3721,  0.3799],\n",
       "          [ 0.7471, -0.2451,  1.2471,  0.2549],\n",
       "          [ 0.8721, -0.1201,  1.1221,  0.1299],\n",
       "          [ 0.4667, -0.2603,  1.5274,  0.2700],\n",
       "          [ 0.7319, -0.5254,  1.2622,  0.5352]],\n",
       "\n",
       "         [[ 0.6240, -0.3701,  1.3740,  0.3799],\n",
       "          [ 0.7490, -0.2451,  1.2490,  0.2549],\n",
       "          [ 0.8740, -0.1201,  1.1240,  0.1299],\n",
       "          [ 0.4687, -0.2603,  1.5294,  0.2700],\n",
       "          [ 0.7339, -0.5254,  1.2642,  0.5352]]],\n",
       "\n",
       "\n",
       "        ...,\n",
       "\n",
       "\n",
       "        [[[-0.3740,  0.6201,  0.3760,  1.3701],\n",
       "          [-0.2490,  0.7451,  0.2510,  1.2451],\n",
       "          [-0.1240,  0.8701,  0.1260,  1.1201],\n",
       "          [-0.5294,  0.7300,  0.5313,  1.2603],\n",
       "          [-0.2642,  0.4648,  0.2661,  1.5254]],\n",
       "\n",
       "         [[-0.3721,  0.6201,  0.3779,  1.3701],\n",
       "          [-0.2471,  0.7451,  0.2529,  1.2451],\n",
       "          [-0.1221,  0.8701,  0.1279,  1.1201],\n",
       "          [-0.5274,  0.7300,  0.5333,  1.2603],\n",
       "          [-0.2622,  0.4648,  0.2681,  1.5254]],\n",
       "\n",
       "         [[-0.3701,  0.6201,  0.3799,  1.3701],\n",
       "          [-0.2451,  0.7451,  0.2549,  1.2451],\n",
       "          [-0.1201,  0.8701,  0.1299,  1.1201],\n",
       "          [-0.5254,  0.7300,  0.5352,  1.2603],\n",
       "          [-0.2603,  0.4648,  0.2700,  1.5254]],\n",
       "\n",
       "         ...,\n",
       "\n",
       "         [[ 0.6201,  0.6201,  1.3701,  1.3701],\n",
       "          [ 0.7451,  0.7451,  1.2451,  1.2451],\n",
       "          [ 0.8701,  0.8701,  1.1201,  1.1201],\n",
       "          [ 0.4648,  0.7300,  1.5254,  1.2603],\n",
       "          [ 0.7300,  0.4648,  1.2603,  1.5254]],\n",
       "\n",
       "         [[ 0.6221,  0.6201,  1.3721,  1.3701],\n",
       "          [ 0.7471,  0.7451,  1.2471,  1.2451],\n",
       "          [ 0.8721,  0.8701,  1.1221,  1.1201],\n",
       "          [ 0.4667,  0.7300,  1.5274,  1.2603],\n",
       "          [ 0.7319,  0.4648,  1.2622,  1.5254]],\n",
       "\n",
       "         [[ 0.6240,  0.6201,  1.3740,  1.3701],\n",
       "          [ 0.7490,  0.7451,  1.2490,  1.2451],\n",
       "          [ 0.8740,  0.8701,  1.1240,  1.1201],\n",
       "          [ 0.4687,  0.7300,  1.5294,  1.2603],\n",
       "          [ 0.7339,  0.4648,  1.2642,  1.5254]]],\n",
       "\n",
       "\n",
       "        [[[-0.3740,  0.6221,  0.3760,  1.3721],\n",
       "          [-0.2490,  0.7471,  0.2510,  1.2471],\n",
       "          [-0.1240,  0.8721,  0.1260,  1.1221],\n",
       "          [-0.5294,  0.7319,  0.5313,  1.2622],\n",
       "          [-0.2642,  0.4667,  0.2661,  1.5274]],\n",
       "\n",
       "         [[-0.3721,  0.6221,  0.3779,  1.3721],\n",
       "          [-0.2471,  0.7471,  0.2529,  1.2471],\n",
       "          [-0.1221,  0.8721,  0.1279,  1.1221],\n",
       "          [-0.5274,  0.7319,  0.5333,  1.2622],\n",
       "          [-0.2622,  0.4667,  0.2681,  1.5274]],\n",
       "\n",
       "         [[-0.3701,  0.6221,  0.3799,  1.3721],\n",
       "          [-0.2451,  0.7471,  0.2549,  1.2471],\n",
       "          [-0.1201,  0.8721,  0.1299,  1.1221],\n",
       "          [-0.5254,  0.7319,  0.5352,  1.2622],\n",
       "          [-0.2603,  0.4667,  0.2700,  1.5274]],\n",
       "\n",
       "         ...,\n",
       "\n",
       "         [[ 0.6201,  0.6221,  1.3701,  1.3721],\n",
       "          [ 0.7451,  0.7471,  1.2451,  1.2471],\n",
       "          [ 0.8701,  0.8721,  1.1201,  1.1221],\n",
       "          [ 0.4648,  0.7319,  1.5254,  1.2622],\n",
       "          [ 0.7300,  0.4667,  1.2603,  1.5274]],\n",
       "\n",
       "         [[ 0.6221,  0.6221,  1.3721,  1.3721],\n",
       "          [ 0.7471,  0.7471,  1.2471,  1.2471],\n",
       "          [ 0.8721,  0.8721,  1.1221,  1.1221],\n",
       "          [ 0.4667,  0.7319,  1.5274,  1.2622],\n",
       "          [ 0.7319,  0.4667,  1.2622,  1.5274]],\n",
       "\n",
       "         [[ 0.6240,  0.6221,  1.3740,  1.3721],\n",
       "          [ 0.7490,  0.7471,  1.2490,  1.2471],\n",
       "          [ 0.8740,  0.8721,  1.1240,  1.1221],\n",
       "          [ 0.4687,  0.7319,  1.5294,  1.2622],\n",
       "          [ 0.7339,  0.4667,  1.2642,  1.5274]]],\n",
       "\n",
       "\n",
       "        [[[-0.3740,  0.6240,  0.3760,  1.3740],\n",
       "          [-0.2490,  0.7490,  0.2510,  1.2490],\n",
       "          [-0.1240,  0.8740,  0.1260,  1.1240],\n",
       "          [-0.5294,  0.7339,  0.5313,  1.2642],\n",
       "          [-0.2642,  0.4687,  0.2661,  1.5294]],\n",
       "\n",
       "         [[-0.3721,  0.6240,  0.3779,  1.3740],\n",
       "          [-0.2471,  0.7490,  0.2529,  1.2490],\n",
       "          [-0.1221,  0.8740,  0.1279,  1.1240],\n",
       "          [-0.5274,  0.7339,  0.5333,  1.2642],\n",
       "          [-0.2622,  0.4687,  0.2681,  1.5294]],\n",
       "\n",
       "         [[-0.3701,  0.6240,  0.3799,  1.3740],\n",
       "          [-0.2451,  0.7490,  0.2549,  1.2490],\n",
       "          [-0.1201,  0.8740,  0.1299,  1.1240],\n",
       "          [-0.5254,  0.7339,  0.5352,  1.2642],\n",
       "          [-0.2603,  0.4687,  0.2700,  1.5294]],\n",
       "\n",
       "         ...,\n",
       "\n",
       "         [[ 0.6201,  0.6240,  1.3701,  1.3740],\n",
       "          [ 0.7451,  0.7490,  1.2451,  1.2490],\n",
       "          [ 0.8701,  0.8740,  1.1201,  1.1240],\n",
       "          [ 0.4648,  0.7339,  1.5254,  1.2642],\n",
       "          [ 0.7300,  0.4687,  1.2603,  1.5294]],\n",
       "\n",
       "         [[ 0.6221,  0.6240,  1.3721,  1.3740],\n",
       "          [ 0.7471,  0.7490,  1.2471,  1.2490],\n",
       "          [ 0.8721,  0.8740,  1.1221,  1.1240],\n",
       "          [ 0.4667,  0.7339,  1.5274,  1.2642],\n",
       "          [ 0.7319,  0.4687,  1.2622,  1.5294]],\n",
       "\n",
       "         [[ 0.6240,  0.6240,  1.3740,  1.3740],\n",
       "          [ 0.7490,  0.7490,  1.2490,  1.2490],\n",
       "          [ 0.8740,  0.8740,  1.1240,  1.1240],\n",
       "          [ 0.4687,  0.7339,  1.5294,  1.2642],\n",
       "          [ 0.7339,  0.4687,  1.2642,  1.5294]]]])"
      ]
     },
     "execution_count": 49,
     "metadata": {},
     "output_type": "execute_result"
    }
   ],
   "source": [
    "Y.reshape(512,512,5,4)"
   ]
  }
 ],
 "metadata": {
  "interpreter": {
   "hash": "31f2aee4e71d21fbe5cf8b01ff0e069b9275f58929596ceb00d14d90e3e16cd6"
  },
  "kernelspec": {
   "display_name": "Python 3",
   "language": "python",
   "name": "python3"
  },
  "language_info": {
   "codemirror_mode": {
    "name": "ipython",
    "version": 3
   },
   "file_extension": ".py",
   "mimetype": "text/x-python",
   "name": "python",
   "nbconvert_exporter": "python",
   "pygments_lexer": "ipython3",
   "version": "3.6.9"
  }
 },
 "nbformat": 4,
 "nbformat_minor": 5
}
